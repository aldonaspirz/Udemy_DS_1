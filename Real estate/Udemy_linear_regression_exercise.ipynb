{
 "cells": [
  {
   "cell_type": "code",
   "execution_count": null,
   "metadata": {},
   "outputs": [],
   "source": [
    "# This is the moment where you really learn.\r\n",
    "\r\n",
    "# Take the model we created as a basis and try to improve it.\r\n",
    "\r\n",
    "# One of the biggest changes will be observed when you include the 'Model' feature we dropped in the beginning.\r\n",
    "\r\n",
    "# Here are some other suggestions:\r\n",
    "\r\n",
    "# -> Perform feature selection\r\n",
    "\r\n",
    "# -> Create a regression where 'Price' is not transformed\r\n",
    "\r\n",
    "# -> Deal with the outliers in a different way"
   ]
  },
  {
   "cell_type": "code",
   "execution_count": 12,
   "metadata": {},
   "outputs": [],
   "source": [
    "import numpy as np\r\n",
    "import pandas as pd\r\n",
    "import statsmodels.api as sm\r\n",
    "import matplotlib.pyplot as plt\r\n",
    "from sklearn.linear_model import LinearRegression\r\n",
    "import seaborn as sns\r\n",
    "sns.set()\r\n",
    "import missingno as msno"
   ]
  },
  {
   "cell_type": "code",
   "execution_count": 3,
   "metadata": {},
   "outputs": [
    {
     "data": {
      "text/html": [
       "<div>\n",
       "<style scoped>\n",
       "    .dataframe tbody tr th:only-of-type {\n",
       "        vertical-align: middle;\n",
       "    }\n",
       "\n",
       "    .dataframe tbody tr th {\n",
       "        vertical-align: top;\n",
       "    }\n",
       "\n",
       "    .dataframe thead th {\n",
       "        text-align: right;\n",
       "    }\n",
       "</style>\n",
       "<table border=\"1\" class=\"dataframe\">\n",
       "  <thead>\n",
       "    <tr style=\"text-align: right;\">\n",
       "      <th></th>\n",
       "      <th>Brand</th>\n",
       "      <th>Price</th>\n",
       "      <th>Body</th>\n",
       "      <th>Mileage</th>\n",
       "      <th>EngineV</th>\n",
       "      <th>Engine Type</th>\n",
       "      <th>Registration</th>\n",
       "      <th>Year</th>\n",
       "      <th>Model</th>\n",
       "    </tr>\n",
       "  </thead>\n",
       "  <tbody>\n",
       "    <tr>\n",
       "      <th>0</th>\n",
       "      <td>BMW</td>\n",
       "      <td>4200.0</td>\n",
       "      <td>sedan</td>\n",
       "      <td>277</td>\n",
       "      <td>2.0</td>\n",
       "      <td>Petrol</td>\n",
       "      <td>yes</td>\n",
       "      <td>1991</td>\n",
       "      <td>320</td>\n",
       "    </tr>\n",
       "    <tr>\n",
       "      <th>1</th>\n",
       "      <td>Mercedes-Benz</td>\n",
       "      <td>7900.0</td>\n",
       "      <td>van</td>\n",
       "      <td>427</td>\n",
       "      <td>2.9</td>\n",
       "      <td>Diesel</td>\n",
       "      <td>yes</td>\n",
       "      <td>1999</td>\n",
       "      <td>Sprinter 212</td>\n",
       "    </tr>\n",
       "    <tr>\n",
       "      <th>2</th>\n",
       "      <td>Mercedes-Benz</td>\n",
       "      <td>13300.0</td>\n",
       "      <td>sedan</td>\n",
       "      <td>358</td>\n",
       "      <td>5.0</td>\n",
       "      <td>Gas</td>\n",
       "      <td>yes</td>\n",
       "      <td>2003</td>\n",
       "      <td>S 500</td>\n",
       "    </tr>\n",
       "    <tr>\n",
       "      <th>3</th>\n",
       "      <td>Audi</td>\n",
       "      <td>23000.0</td>\n",
       "      <td>crossover</td>\n",
       "      <td>240</td>\n",
       "      <td>4.2</td>\n",
       "      <td>Petrol</td>\n",
       "      <td>yes</td>\n",
       "      <td>2007</td>\n",
       "      <td>Q7</td>\n",
       "    </tr>\n",
       "    <tr>\n",
       "      <th>4</th>\n",
       "      <td>Toyota</td>\n",
       "      <td>18300.0</td>\n",
       "      <td>crossover</td>\n",
       "      <td>120</td>\n",
       "      <td>2.0</td>\n",
       "      <td>Petrol</td>\n",
       "      <td>yes</td>\n",
       "      <td>2011</td>\n",
       "      <td>Rav 4</td>\n",
       "    </tr>\n",
       "  </tbody>\n",
       "</table>\n",
       "</div>"
      ],
      "text/plain": [
       "           Brand    Price       Body  Mileage  EngineV Engine Type  \\\n",
       "0            BMW   4200.0      sedan      277      2.0      Petrol   \n",
       "1  Mercedes-Benz   7900.0        van      427      2.9      Diesel   \n",
       "2  Mercedes-Benz  13300.0      sedan      358      5.0         Gas   \n",
       "3           Audi  23000.0  crossover      240      4.2      Petrol   \n",
       "4         Toyota  18300.0  crossover      120      2.0      Petrol   \n",
       "\n",
       "  Registration  Year         Model  \n",
       "0          yes  1991           320  \n",
       "1          yes  1999  Sprinter 212  \n",
       "2          yes  2003         S 500  \n",
       "3          yes  2007            Q7  \n",
       "4          yes  2011         Rav 4  "
      ]
     },
     "execution_count": 3,
     "metadata": {},
     "output_type": "execute_result"
    }
   ],
   "source": [
    "# zaimportowanie danych\r\n",
    "df=pd.read_csv('1.04.+Real-life+example.csv')\r\n",
    "\r\n",
    "# Let's explore the top 5 rows of the df\r\n",
    "df.head()"
   ]
  },
  {
   "cell_type": "code",
   "execution_count": 4,
   "metadata": {},
   "outputs": [
    {
     "data": {
      "text/html": [
       "<div>\n",
       "<style scoped>\n",
       "    .dataframe tbody tr th:only-of-type {\n",
       "        vertical-align: middle;\n",
       "    }\n",
       "\n",
       "    .dataframe tbody tr th {\n",
       "        vertical-align: top;\n",
       "    }\n",
       "\n",
       "    .dataframe thead th {\n",
       "        text-align: right;\n",
       "    }\n",
       "</style>\n",
       "<table border=\"1\" class=\"dataframe\">\n",
       "  <thead>\n",
       "    <tr style=\"text-align: right;\">\n",
       "      <th></th>\n",
       "      <th>Brand</th>\n",
       "      <th>Price</th>\n",
       "      <th>Body</th>\n",
       "      <th>Mileage</th>\n",
       "      <th>EngineV</th>\n",
       "      <th>Engine Type</th>\n",
       "      <th>Registration</th>\n",
       "      <th>Year</th>\n",
       "      <th>Model</th>\n",
       "    </tr>\n",
       "  </thead>\n",
       "  <tbody>\n",
       "    <tr>\n",
       "      <th>count</th>\n",
       "      <td>4345</td>\n",
       "      <td>4173.000000</td>\n",
       "      <td>4345</td>\n",
       "      <td>4345.000000</td>\n",
       "      <td>4195.000000</td>\n",
       "      <td>4345</td>\n",
       "      <td>4345</td>\n",
       "      <td>4345.000000</td>\n",
       "      <td>4345</td>\n",
       "    </tr>\n",
       "    <tr>\n",
       "      <th>unique</th>\n",
       "      <td>7</td>\n",
       "      <td>NaN</td>\n",
       "      <td>6</td>\n",
       "      <td>NaN</td>\n",
       "      <td>NaN</td>\n",
       "      <td>4</td>\n",
       "      <td>2</td>\n",
       "      <td>NaN</td>\n",
       "      <td>312</td>\n",
       "    </tr>\n",
       "    <tr>\n",
       "      <th>top</th>\n",
       "      <td>Volkswagen</td>\n",
       "      <td>NaN</td>\n",
       "      <td>sedan</td>\n",
       "      <td>NaN</td>\n",
       "      <td>NaN</td>\n",
       "      <td>Diesel</td>\n",
       "      <td>yes</td>\n",
       "      <td>NaN</td>\n",
       "      <td>E-Class</td>\n",
       "    </tr>\n",
       "    <tr>\n",
       "      <th>freq</th>\n",
       "      <td>936</td>\n",
       "      <td>NaN</td>\n",
       "      <td>1649</td>\n",
       "      <td>NaN</td>\n",
       "      <td>NaN</td>\n",
       "      <td>2019</td>\n",
       "      <td>3947</td>\n",
       "      <td>NaN</td>\n",
       "      <td>199</td>\n",
       "    </tr>\n",
       "    <tr>\n",
       "      <th>mean</th>\n",
       "      <td>NaN</td>\n",
       "      <td>19418.746935</td>\n",
       "      <td>NaN</td>\n",
       "      <td>161.237284</td>\n",
       "      <td>2.790734</td>\n",
       "      <td>NaN</td>\n",
       "      <td>NaN</td>\n",
       "      <td>2006.550058</td>\n",
       "      <td>NaN</td>\n",
       "    </tr>\n",
       "    <tr>\n",
       "      <th>std</th>\n",
       "      <td>NaN</td>\n",
       "      <td>25584.242620</td>\n",
       "      <td>NaN</td>\n",
       "      <td>105.705797</td>\n",
       "      <td>5.066437</td>\n",
       "      <td>NaN</td>\n",
       "      <td>NaN</td>\n",
       "      <td>6.719097</td>\n",
       "      <td>NaN</td>\n",
       "    </tr>\n",
       "    <tr>\n",
       "      <th>min</th>\n",
       "      <td>NaN</td>\n",
       "      <td>600.000000</td>\n",
       "      <td>NaN</td>\n",
       "      <td>0.000000</td>\n",
       "      <td>0.600000</td>\n",
       "      <td>NaN</td>\n",
       "      <td>NaN</td>\n",
       "      <td>1969.000000</td>\n",
       "      <td>NaN</td>\n",
       "    </tr>\n",
       "    <tr>\n",
       "      <th>25%</th>\n",
       "      <td>NaN</td>\n",
       "      <td>6999.000000</td>\n",
       "      <td>NaN</td>\n",
       "      <td>86.000000</td>\n",
       "      <td>1.800000</td>\n",
       "      <td>NaN</td>\n",
       "      <td>NaN</td>\n",
       "      <td>2003.000000</td>\n",
       "      <td>NaN</td>\n",
       "    </tr>\n",
       "    <tr>\n",
       "      <th>50%</th>\n",
       "      <td>NaN</td>\n",
       "      <td>11500.000000</td>\n",
       "      <td>NaN</td>\n",
       "      <td>155.000000</td>\n",
       "      <td>2.200000</td>\n",
       "      <td>NaN</td>\n",
       "      <td>NaN</td>\n",
       "      <td>2008.000000</td>\n",
       "      <td>NaN</td>\n",
       "    </tr>\n",
       "    <tr>\n",
       "      <th>75%</th>\n",
       "      <td>NaN</td>\n",
       "      <td>21700.000000</td>\n",
       "      <td>NaN</td>\n",
       "      <td>230.000000</td>\n",
       "      <td>3.000000</td>\n",
       "      <td>NaN</td>\n",
       "      <td>NaN</td>\n",
       "      <td>2012.000000</td>\n",
       "      <td>NaN</td>\n",
       "    </tr>\n",
       "    <tr>\n",
       "      <th>max</th>\n",
       "      <td>NaN</td>\n",
       "      <td>300000.000000</td>\n",
       "      <td>NaN</td>\n",
       "      <td>980.000000</td>\n",
       "      <td>99.990000</td>\n",
       "      <td>NaN</td>\n",
       "      <td>NaN</td>\n",
       "      <td>2016.000000</td>\n",
       "      <td>NaN</td>\n",
       "    </tr>\n",
       "  </tbody>\n",
       "</table>\n",
       "</div>"
      ],
      "text/plain": [
       "             Brand          Price   Body      Mileage      EngineV  \\\n",
       "count         4345    4173.000000   4345  4345.000000  4195.000000   \n",
       "unique           7            NaN      6          NaN          NaN   \n",
       "top     Volkswagen            NaN  sedan          NaN          NaN   \n",
       "freq           936            NaN   1649          NaN          NaN   \n",
       "mean           NaN   19418.746935    NaN   161.237284     2.790734   \n",
       "std            NaN   25584.242620    NaN   105.705797     5.066437   \n",
       "min            NaN     600.000000    NaN     0.000000     0.600000   \n",
       "25%            NaN    6999.000000    NaN    86.000000     1.800000   \n",
       "50%            NaN   11500.000000    NaN   155.000000     2.200000   \n",
       "75%            NaN   21700.000000    NaN   230.000000     3.000000   \n",
       "max            NaN  300000.000000    NaN   980.000000    99.990000   \n",
       "\n",
       "       Engine Type Registration         Year    Model  \n",
       "count         4345         4345  4345.000000     4345  \n",
       "unique           4            2          NaN      312  \n",
       "top         Diesel          yes          NaN  E-Class  \n",
       "freq          2019         3947          NaN      199  \n",
       "mean           NaN          NaN  2006.550058      NaN  \n",
       "std            NaN          NaN     6.719097      NaN  \n",
       "min            NaN          NaN  1969.000000      NaN  \n",
       "25%            NaN          NaN  2003.000000      NaN  \n",
       "50%            NaN          NaN  2008.000000      NaN  \n",
       "75%            NaN          NaN  2012.000000      NaN  \n",
       "max            NaN          NaN  2016.000000      NaN  "
      ]
     },
     "execution_count": 4,
     "metadata": {},
     "output_type": "execute_result"
    }
   ],
   "source": [
    "df.describe(include='all')"
   ]
  },
  {
   "cell_type": "code",
   "execution_count": 5,
   "metadata": {},
   "outputs": [
    {
     "data": {
      "text/plain": [
       "Brand             0\n",
       "Price           172\n",
       "Body              0\n",
       "Mileage           0\n",
       "EngineV         150\n",
       "Engine Type       0\n",
       "Registration      0\n",
       "Year              0\n",
       "Model             0\n",
       "dtype: int64"
      ]
     },
     "execution_count": 5,
     "metadata": {},
     "output_type": "execute_result"
    }
   ],
   "source": [
    "df.isnull().sum()"
   ]
  },
  {
   "cell_type": "code",
   "execution_count": 6,
   "metadata": {},
   "outputs": [],
   "source": [
    "#deal with null\r\n",
    "df_no_null=df.dropna(axis=0)"
   ]
  },
  {
   "cell_type": "code",
   "execution_count": 7,
   "metadata": {},
   "outputs": [
    {
     "data": {
      "text/plain": [
       "(4025, 9)"
      ]
     },
     "execution_count": 7,
     "metadata": {},
     "output_type": "execute_result"
    }
   ],
   "source": [
    "df_no_null.shape"
   ]
  },
  {
   "cell_type": "code",
   "execution_count": 8,
   "metadata": {},
   "outputs": [
    {
     "name": "stderr",
     "output_type": "stream",
     "text": [
      "C:\\Users\\Aldona\\anaconda3\\lib\\site-packages\\seaborn\\distributions.py:2551: FutureWarning: `distplot` is a deprecated function and will be removed in a future version. Please adapt your code to use either `displot` (a figure-level function with similar flexibility) or `histplot` (an axes-level function for histograms).\n",
      "  warnings.warn(msg, FutureWarning)\n"
     ]
    },
    {
     "data": {
      "text/plain": [
       "<AxesSubplot:xlabel='Price', ylabel='Density'>"
      ]
     },
     "execution_count": 8,
     "metadata": {},
     "output_type": "execute_result"
    },
    {
     "data": {
      "image/png": "[encoded data removed]",
      "text/plain": [
       "<Figure size 432x288 with 1 Axes>"
      ]
     },
     "metadata": {},
     "output_type": "display_data"
    }
   ],
   "source": [
    "sns.distplot(df_no_null['Price'])"
   ]
  },
  {
   "cell_type": "code",
   "execution_count": 9,
   "metadata": {},
   "outputs": [
    {
     "data": {
      "text/plain": [
       "<AxesSubplot:xlabel='Price'>"
      ]
     },
     "execution_count": 9,
     "metadata": {},
     "output_type": "execute_result"
    },
    {
     "data": {
      "image/png": "[encoded data removed]",
      "text/plain": [
       "<Figure size 432x288 with 1 Axes>"
      ]
     },
     "metadata": {},
     "output_type": "display_data"
    }
   ],
   "source": []
  },
  {
   "cell_type": "code",
   "execution_count": 11,
   "metadata": {},
   "outputs": [
    {
     "name": "stdout",
     "output_type": "stream",
     "text": [
      "<class 'pandas.core.frame.DataFrame'>\n",
      "Int64Index: 4025 entries, 0 to 4344\n",
      "Data columns (total 9 columns):\n",
      " #   Column        Non-Null Count  Dtype  \n",
      "---  ------        --------------  -----  \n",
      " 0   Brand         4025 non-null   object \n",
      " 1   Price         4025 non-null   float64\n",
      " 2   Body          4025 non-null   object \n",
      " 3   Mileage       4025 non-null   int64  \n",
      " 4   EngineV       4025 non-null   float64\n",
      " 5   Engine Type   4025 non-null   object \n",
      " 6   Registration  4025 non-null   object \n",
      " 7   Year          4025 non-null   int64  \n",
      " 8   Model         4025 non-null   object \n",
      "dtypes: float64(2), int64(2), object(5)\n",
      "memory usage: 314.5+ KB\n"
     ]
    }
   ],
   "source": [
    "#Deal with objects\r\n",
    "df_no_null.info()"
   ]
  },
  {
   "cell_type": "code",
   "execution_count": 20,
   "metadata": {},
   "outputs": [
    {
     "data": {
      "text/plain": [
       "E-Class    188\n",
       "Vito       156\n",
       "A6         156\n",
       "Kangoo     136\n",
       "Camry      127\n",
       "          ... \n",
       "120          1\n",
       "R 320        1\n",
       "11           1\n",
       "Pointer      1\n",
       "GLK 300      1\n",
       "Name: Model, Length: 306, dtype: int64"
      ]
     },
     "execution_count": 20,
     "metadata": {},
     "output_type": "execute_result"
    }
   ],
   "source": [
    "df_no_null['Model'].value_counts()\r\n"
   ]
  },
  {
   "cell_type": "code",
   "execution_count": 23,
   "metadata": {},
   "outputs": [
    {
     "name": "stderr",
     "output_type": "stream",
     "text": [
      "<ipython-input-23-4bc59d844bc3>:1: SettingWithCopyWarning: \n",
      "A value is trying to be set on a copy of a slice from a DataFrame.\n",
      "Try using .loc[row_indexer,col_indexer] = value instead\n",
      "\n",
      "See the caveats in the documentation: https://pandas.pydata.org/pandas-docs/stable/user_guide/indexing.html#returning-a-view-versus-a-copy\n",
      "  df_no_null['Brand_cat']=df_no_null['Brand'].factorize()[0]\n"
     ]
    },
    {
     "data": {
      "text/plain": [
       "5    880\n",
       "1    823\n",
       "0    640\n",
       "3    510\n",
       "4    445\n",
       "2    420\n",
       "6    307\n",
       "Name: Brand_cat, dtype: int64"
      ]
     },
     "execution_count": 23,
     "metadata": {},
     "output_type": "execute_result"
    }
   ],
   "source": [
    "df_no_null['Brand_cat']=df_no_null['Brand'].factorize()[0]\r\n",
    "df_no_null['Brand_cat'].value_counts()"
   ]
  },
  {
   "cell_type": "code",
   "execution_count": 25,
   "metadata": {},
   "outputs": [
    {
     "name": "stderr",
     "output_type": "stream",
     "text": [
      "<ipython-input-25-b5c087a3838d>:1: SettingWithCopyWarning: \n",
      "A value is trying to be set on a copy of a slice from a DataFrame.\n",
      "Try using .loc[row_indexer,col_indexer] = value instead\n",
      "\n",
      "See the caveats in the documentation: https://pandas.pydata.org/pandas-docs/stable/user_guide/indexing.html#returning-a-view-versus-a-copy\n",
      "  df_no_null['Engine Type_cat']=df_no_null['Engine Type'].factorize()[0]\n"
     ]
    },
    {
     "data": {
      "text/plain": [
       "1    1861\n",
       "0    1468\n",
       "2     590\n",
       "3     106\n",
       "Name: Engine Type_cat, dtype: int64"
      ]
     },
     "execution_count": 25,
     "metadata": {},
     "output_type": "execute_result"
    }
   ],
   "source": [
    "df_no_null['Engine Type_cat']=df_no_null['Engine Type'].factorize()[0]\r\n",
    "df_no_null['Engine Type_cat'].value_counts()"
   ]
  },
  {
   "cell_type": "code",
   "execution_count": 26,
   "metadata": {},
   "outputs": [
    {
     "name": "stderr",
     "output_type": "stream",
     "text": [
      "<ipython-input-26-6d6c3282e2a8>:1: SettingWithCopyWarning: \n",
      "A value is trying to be set on a copy of a slice from a DataFrame.\n",
      "Try using .loc[row_indexer,col_indexer] = value instead\n",
      "\n",
      "See the caveats in the documentation: https://pandas.pydata.org/pandas-docs/stable/user_guide/indexing.html#returning-a-view-versus-a-copy\n",
      "  df_no_null['Registration_cat']=df_no_null['Registration'].factorize()[0]\n"
     ]
    },
    {
     "data": {
      "text/plain": [
       "0    3654\n",
       "1     371\n",
       "Name: Registration_cat, dtype: int64"
      ]
     },
     "execution_count": 26,
     "metadata": {},
     "output_type": "execute_result"
    }
   ],
   "source": [
    "\r\n",
    "df_no_null['Registration_cat']=df_no_null['Registration'].factorize()[0]\r\n",
    "df_no_null['Registration_cat'].value_counts()"
   ]
  },
  {
   "cell_type": "code",
   "execution_count": 27,
   "metadata": {},
   "outputs": [
    {
     "name": "stderr",
     "output_type": "stream",
     "text": [
      "<ipython-input-27-d069fc17beab>:1: SettingWithCopyWarning: \n",
      "A value is trying to be set on a copy of a slice from a DataFrame.\n",
      "Try using .loc[row_indexer,col_indexer] = value instead\n",
      "\n",
      "See the caveats in the documentation: https://pandas.pydata.org/pandas-docs/stable/user_guide/indexing.html#returning-a-view-versus-a-copy\n",
      "  df_no_null['Model_cat']=df_no_null['Model'].factorize()[0]\n"
     ]
    },
    {
     "data": {
      "text/plain": [
       "41     188\n",
       "20     156\n",
       "6      156\n",
       "34     136\n",
       "27     127\n",
       "      ... \n",
       "288      1\n",
       "286      1\n",
       "284      1\n",
       "278      1\n",
       "304      1\n",
       "Name: Model_cat, Length: 306, dtype: int64"
      ]
     },
     "execution_count": 27,
     "metadata": {},
     "output_type": "execute_result"
    }
   ],
   "source": [
    "\r\n",
    "df_no_null['Model_cat']=df_no_null['Model'].factorize()[0]\r\n",
    "df_no_null['Model_cat'].value_counts()"
   ]
  },
  {
   "cell_type": "code",
   "execution_count": 29,
   "metadata": {},
   "outputs": [
    {
     "data": {
      "text/plain": [
       "<AxesSubplot:xlabel='Model_cat'>"
      ]
     },
     "execution_count": 29,
     "metadata": {},
     "output_type": "execute_result"
    },
    {
     "data": {
      "image/png": "[encoded data removed]",
      "text/plain": [
       "<Figure size 432x288 with 1 Axes>"
      ]
     },
     "metadata": {},
     "output_type": "display_data"
    }
   ],
   "source": [
    "#-> Deal with the outliers in a different way\r\n",
    "sns.boxplot(x=df_no_null['Model_cat'])"
   ]
  },
  {
   "cell_type": "code",
   "execution_count": 44,
   "metadata": {},
   "outputs": [
    {
     "data": {
      "text/plain": [
       "count    4025.000000\n",
       "mean        2.764586\n",
       "std         4.935941\n",
       "min         0.600000\n",
       "25%         1.800000\n",
       "50%         2.200000\n",
       "75%         3.000000\n",
       "max        99.990000\n",
       "Name: EngineV, dtype: float64"
      ]
     },
     "execution_count": 44,
     "metadata": {},
     "output_type": "execute_result"
    }
   ],
   "source": [
    "df_no_null['EngineV'].describe()"
   ]
  },
  {
   "cell_type": "code",
   "execution_count": 75,
   "metadata": {},
   "outputs": [],
   "source": [
    "def rule(x):\r\n",
    "    if x > 8:\r\n",
    "         return x/100\r\n",
    "    else:\r\n",
    "        return x\r\n",
    "    "
   ]
  },
  {
   "cell_type": "code",
   "execution_count": 76,
   "metadata": {},
   "outputs": [
    {
     "name": "stderr",
     "output_type": "stream",
     "text": [
      "<ipython-input-76-167609e37b66>:1: SettingWithCopyWarning: \n",
      "A value is trying to be set on a copy of a slice from a DataFrame.\n",
      "Try using .loc[row_indexer,col_indexer] = value instead\n",
      "\n",
      "See the caveats in the documentation: https://pandas.pydata.org/pandas-docs/stable/user_guide/indexing.html#returning-a-view-versus-a-copy\n",
      "  df_no_null['EngineV_cat'] = df_no_null.apply(lambda df_no_null: rule(df_no_null['EngineV']), axis =  1)\n"
     ]
    }
   ],
   "source": [
    "df_no_null['EngineV_cat'] = df_no_null.apply(lambda df_no_null: rule(df_no_null['EngineV']), axis =  1)"
   ]
  },
  {
   "cell_type": "code",
   "execution_count": 77,
   "metadata": {},
   "outputs": [
    {
     "data": {
      "text/plain": [
       "count    4025.000000\n",
       "mean        2.459118\n",
       "std         0.985409\n",
       "min         0.090000\n",
       "25%         1.800000\n",
       "50%         2.200000\n",
       "75%         3.000000\n",
       "max         7.200000\n",
       "Name: EngineV_cat, dtype: float64"
      ]
     },
     "execution_count": 77,
     "metadata": {},
     "output_type": "execute_result"
    }
   ],
   "source": [
    "df_no_null['EngineV_cat'].describe()"
   ]
  },
  {
   "cell_type": "code",
   "execution_count": 78,
   "metadata": {},
   "outputs": [
    {
     "data": {
      "text/plain": [
       "<bound method Series.unique of 0       2.0\n",
       "1       2.9\n",
       "2       5.0\n",
       "3       4.2\n",
       "4       2.0\n",
       "       ... \n",
       "4339    1.6\n",
       "4340    3.0\n",
       "4341    3.5\n",
       "4342    2.0\n",
       "4344    2.0\n",
       "Name: EngineV_cat, Length: 4025, dtype: float64>"
      ]
     },
     "execution_count": 78,
     "metadata": {},
     "output_type": "execute_result"
    }
   ],
   "source": [
    "df_no_null['EngineV_cat'].unique"
   ]
  },
  {
   "cell_type": "code",
   "execution_count": 85,
   "metadata": {},
   "outputs": [
    {
     "data": {
      "text/plain": [
       "<AxesSubplot:xlabel='EngineV_cat'>"
      ]
     },
     "execution_count": 85,
     "metadata": {},
     "output_type": "execute_result"
    },
    {
     "data": {
      "image/png": "[encoded data removed]",
      "text/plain": [
       "<Figure size 432x288 with 1 Axes>"
      ]
     },
     "metadata": {},
     "output_type": "display_data"
    }
   ],
   "source": [
    "sns.boxplot(x=df_no_null['EngineV_cat'])"
   ]
  },
  {
   "cell_type": "code",
   "execution_count": 80,
   "metadata": {},
   "outputs": [
    {
     "name": "stdout",
     "output_type": "stream",
     "text": [
      "<class 'pandas.core.frame.DataFrame'>\n",
      "Int64Index: 4025 entries, 0 to 4344\n",
      "Data columns (total 15 columns):\n",
      " #   Column            Non-Null Count  Dtype  \n",
      "---  ------            --------------  -----  \n",
      " 0   Brand             4025 non-null   object \n",
      " 1   Price             4025 non-null   float64\n",
      " 2   Body              4025 non-null   object \n",
      " 3   Mileage           4025 non-null   int64  \n",
      " 4   EngineV           4025 non-null   float64\n",
      " 5   Engine Type       4025 non-null   object \n",
      " 6   Registration      4025 non-null   object \n",
      " 7   Year              4025 non-null   int64  \n",
      " 8   Model             4025 non-null   object \n",
      " 9   Brand_cat         4025 non-null   int64  \n",
      " 10  Body_cat          4025 non-null   int64  \n",
      " 11  Engine Type_cat   4025 non-null   int64  \n",
      " 12  Registration_cat  4025 non-null   int64  \n",
      " 13  Model_cat         4025 non-null   int64  \n",
      " 14  EngineV_cat       4025 non-null   float64\n",
      "dtypes: float64(3), int64(7), object(5)\n",
      "memory usage: 663.1+ KB\n"
     ]
    }
   ],
   "source": [
    "df_no_null.info()"
   ]
  },
  {
   "cell_type": "code",
   "execution_count": 83,
   "metadata": {},
   "outputs": [
    {
     "name": "stdout",
     "output_type": "stream",
     "text": [
      "[[0.5947619  1.09717342 2.29726223 ... 0.31864175 1.06020105 0.46597384]\n",
      " [0.45142065 2.54810497 1.10229844 ... 0.31864175 1.04381781 0.44746585]\n",
      " [0.24221991 1.88067646 0.50481654 ... 0.31864175 1.02743457 2.57882514]\n",
      " ...\n",
      " [0.50565788 1.57254065 1.10229844 ... 0.31864175 1.74133264 1.05642565]\n",
      " [0.44754656 0.29432462 3.19348508 ... 0.31864175 0.19188944 0.46597384]\n",
      " [0.23447173 0.38277677 0.98888821 ... 0.31864175 0.2996077  0.46597384]]\n",
      "\n",
      "\n",
      "*******************************************************************************\n",
      "\n",
      "\n",
      "Ponizej sa punkty odstajace - nr indeksow i odpowiadające im indeksy kolumn w drugim wektorze\n",
      "\n",
      "\n",
      "(array([   5,    5,    9,   16,   18,   26,   38,   51,   56,   57,   63,\n",
      "         64,   68,   70,   72,   86,   96,   97,  110,  111,  118,  128,\n",
      "        146,  156,  160,  169,  171,  173,  175,  187,  189,  193,  196,\n",
      "        201,  209,  213,  216,  240,  245,  249,  257,  265,  267,  302,\n",
      "        303,  306,  321,  321,  322,  325,  327,  334,  337,  364,  365,\n",
      "        375,  384,  385,  386,  391,  392,  406,  406,  413,  423,  424,\n",
      "        426,  432,  443,  450,  453,  466,  467,  470,  479,  488,  491,\n",
      "        497,  498,  511,  515,  522,  523,  536,  546,  548,  551,  552,\n",
      "        557,  557,  558,  566,  573,  578,  587,  588,  591,  592,  599,\n",
      "        611,  615,  622,  628,  642,  655,  664,  669,  670,  671,  675,\n",
      "        679,  688,  690,  697,  706,  710,  731,  745,  749,  752,  758,\n",
      "        771,  774,  786,  793,  803,  810,  813,  828,  829,  833,  834,\n",
      "        835,  836,  848,  850,  861,  863,  864,  869,  877,  883,  884,\n",
      "        896,  899,  906,  921,  934,  936,  950,  966,  974,  981,  983,\n",
      "        987,  999, 1000, 1014, 1017, 1027, 1030, 1045, 1060, 1062, 1079,\n",
      "       1115, 1120, 1127, 1139, 1150, 1151, 1153, 1158, 1166, 1168, 1175,\n",
      "       1180, 1189, 1205, 1206, 1208, 1212, 1215, 1218, 1229, 1243, 1245,\n",
      "       1247, 1248, 1250, 1252, 1253, 1262, 1266, 1277, 1290, 1291, 1292,\n",
      "       1296, 1301, 1303, 1304, 1307, 1323, 1327, 1328, 1332, 1344, 1350,\n",
      "       1351, 1353, 1355, 1358, 1366, 1371, 1374, 1382, 1388, 1415, 1422,\n",
      "       1425, 1426, 1441, 1473, 1478, 1492, 1494, 1502, 1506, 1507, 1524,\n",
      "       1524, 1526, 1527, 1529, 1538, 1547, 1548, 1553, 1565, 1587, 1599,\n",
      "       1599, 1604, 1606, 1607, 1609, 1615, 1616, 1619, 1637, 1653, 1672,\n",
      "       1674, 1675, 1681, 1685, 1686, 1687, 1688, 1702, 1707, 1711, 1713,\n",
      "       1714, 1715, 1720, 1728, 1730, 1731, 1732, 1741, 1751, 1768, 1768,\n",
      "       1793, 1811, 1818, 1828, 1831, 1841, 1844, 1854, 1858, 1860, 1860,\n",
      "       1864, 1874, 1882, 1886, 1891, 1910, 1913, 1919, 1940, 1945, 1964,\n",
      "       1968, 1969, 1972, 1972, 1994, 2002, 2022, 2022, 2032, 2036, 2039,\n",
      "       2043, 2045, 2046, 2047, 2058, 2058, 2062, 2064, 2065, 2068, 2075,\n",
      "       2075, 2083, 2093, 2096, 2099, 2100, 2113, 2114, 2115, 2115, 2116,\n",
      "       2116, 2117, 2118, 2124, 2127, 2133, 2134, 2141, 2146, 2149, 2151,\n",
      "       2153, 2161, 2166, 2166, 2169, 2189, 2201, 2204, 2209, 2210, 2211,\n",
      "       2211, 2213, 2219, 2230, 2234, 2259, 2262, 2275, 2280, 2282, 2286,\n",
      "       2299, 2301, 2306, 2316, 2316, 2324, 2332, 2333, 2335, 2339, 2346,\n",
      "       2347, 2352, 2356, 2369, 2372, 2379, 2380, 2385, 2388, 2407, 2408,\n",
      "       2417, 2421, 2428, 2430, 2437, 2440, 2449, 2454, 2460, 2470, 2470,\n",
      "       2472, 2480, 2482, 2489, 2491, 2501, 2505, 2509, 2514, 2516, 2528,\n",
      "       2536, 2540, 2542, 2545, 2553, 2572, 2573, 2576, 2578, 2580, 2596,\n",
      "       2606, 2618, 2627, 2641, 2641, 2643, 2647, 2649, 2649, 2654, 2656,\n",
      "       2668, 2670, 2672, 2677, 2684, 2687, 2689, 2706, 2708, 2709, 2712,\n",
      "       2712, 2714, 2714, 2719, 2727, 2743, 2753, 2755, 2773, 2775, 2776,\n",
      "       2778, 2786, 2788, 2799, 2802, 2807, 2808, 2809, 2814, 2816, 2818,\n",
      "       2819, 2820, 2823, 2827, 2829, 2836, 2841, 2846, 2855, 2863, 2873,\n",
      "       2888, 2888, 2889, 2894, 2899, 2914, 2919, 2919, 2919, 2922, 2926,\n",
      "       2948, 2950, 2962, 2966, 2970, 2970, 2973, 2978, 2979, 2981, 2985,\n",
      "       2991, 2993, 2994, 2994, 2998, 3008, 3019, 3030, 3031, 3032, 3033,\n",
      "       3036, 3037, 3059, 3065, 3068, 3075, 3077, 3081, 3084, 3091, 3094,\n",
      "       3097, 3108, 3109, 3115, 3131, 3138, 3141, 3142, 3145, 3147, 3148,\n",
      "       3153, 3155, 3156, 3158, 3160, 3161, 3166, 3167, 3174, 3186, 3195,\n",
      "       3199, 3199, 3202, 3208, 3208, 3209, 3216, 3224, 3224, 3232, 3235,\n",
      "       3243, 3244, 3249, 3260, 3265, 3274, 3276, 3277, 3289, 3290, 3296,\n",
      "       3303, 3307, 3312, 3327, 3336, 3337, 3338, 3342, 3343, 3345, 3350,\n",
      "       3352, 3353, 3356, 3359, 3364, 3372, 3373, 3373, 3375, 3376, 3396,\n",
      "       3400, 3402, 3405, 3410, 3419, 3423, 3424, 3425, 3432, 3436, 3441,\n",
      "       3442, 3446, 3452, 3455, 3460, 3462, 3469, 3477, 3481, 3492, 3492,\n",
      "       3499, 3499, 3509, 3517, 3536, 3544, 3557, 3557, 3559, 3560, 3567,\n",
      "       3573, 3575, 3576, 3592, 3594, 3607, 3611, 3616, 3637, 3637, 3638,\n",
      "       3648, 3650, 3651, 3654, 3654, 3662, 3663, 3664, 3667, 3668, 3669,\n",
      "       3670, 3677, 3679, 3680, 3681, 3683, 3683, 3690, 3695, 3699, 3710,\n",
      "       3713, 3727, 3734, 3737, 3740, 3749, 3749, 3750, 3754, 3760, 3764,\n",
      "       3766, 3774, 3776, 3777, 3784, 3791, 3793, 3800, 3800, 3804, 3819,\n",
      "       3820, 3838, 3839, 3843, 3845, 3853, 3897, 3903, 3905, 3919, 3923,\n",
      "       3923, 3939, 3941, 3944, 3947, 3948, 3953, 3956, 3959, 3961, 3964,\n",
      "       3970, 3974, 3979, 3986, 3999, 4000, 4003, 4017, 4021, 4023],\n",
      "      dtype=int64), array([0, 8, 6, 6, 6, 6, 8, 6, 0, 6, 6, 6, 6, 6, 6, 6, 0, 6, 6, 6, 0, 2,\n",
      "       6, 6, 0, 6, 6, 6, 0, 6, 6, 8, 6, 0, 8, 6, 0, 1, 6, 8, 6, 8, 2, 6,\n",
      "       6, 6, 0, 8, 8, 6, 2, 8, 6, 2, 6, 6, 6, 6, 8, 6, 6, 0, 8, 0, 6, 6,\n",
      "       6, 6, 6, 6, 6, 2, 8, 6, 6, 6, 6, 6, 6, 8, 6, 6, 6, 6, 6, 6, 0, 6,\n",
      "       0, 8, 6, 6, 6, 6, 8, 6, 6, 6, 6, 6, 6, 8, 6, 8, 6, 6, 8, 6, 6, 6,\n",
      "       0, 6, 6, 2, 6, 6, 6, 8, 6, 2, 6, 2, 6, 0, 6, 6, 6, 2, 8, 0, 6, 1,\n",
      "       6, 8, 6, 6, 6, 6, 6, 6, 6, 6, 0, 0, 6, 8, 0, 6, 6, 2, 6, 6, 2, 6,\n",
      "       6, 8, 8, 6, 6, 2, 0, 2, 6, 6, 8, 1, 6, 6, 6, 6, 6, 6, 8, 6, 6, 6,\n",
      "       6, 8, 6, 6, 6, 0, 6, 6, 6, 6, 6, 6, 6, 0, 6, 6, 6, 0, 6, 1, 6, 6,\n",
      "       6, 8, 6, 1, 6, 6, 0, 6, 8, 6, 6, 2, 6, 6, 6, 6, 6, 6, 6, 6, 6, 6,\n",
      "       6, 6, 0, 0, 6, 6, 2, 6, 0, 6, 0, 8, 8, 6, 8, 0, 2, 6, 0, 6, 6, 0,\n",
      "       8, 6, 8, 6, 6, 6, 6, 0, 6, 6, 1, 6, 6, 6, 6, 2, 6, 0, 8, 0, 6, 0,\n",
      "       8, 6, 0, 6, 6, 0, 6, 0, 2, 0, 8, 8, 6, 6, 8, 6, 6, 0, 6, 8, 0, 8,\n",
      "       6, 2, 0, 8, 6, 6, 8, 2, 6, 6, 2, 8, 6, 0, 8, 1, 6, 0, 8, 6, 6, 6,\n",
      "       0, 6, 0, 6, 0, 8, 6, 6, 6, 8, 0, 8, 6, 6, 6, 7, 6, 6, 6, 1, 7, 0,\n",
      "       7, 7, 7, 6, 7, 6, 6, 6, 8, 6, 6, 8, 6, 6, 7, 6, 6, 6, 6, 7, 8, 0,\n",
      "       7, 6, 6, 0, 6, 6, 8, 6, 8, 6, 1, 0, 1, 6, 7, 8, 7, 0, 6, 6, 6, 6,\n",
      "       6, 7, 0, 6, 0, 8, 7, 6, 0, 1, 6, 6, 6, 6, 7, 7, 8, 7, 0, 7, 7, 8,\n",
      "       6, 6, 6, 6, 6, 8, 7, 7, 6, 0, 0, 0, 8, 7, 7, 6, 2, 0, 6, 6, 6, 2,\n",
      "       6, 6, 6, 0, 7, 6, 8, 6, 7, 7, 1, 6, 6, 6, 2, 6, 0, 0, 7, 7, 7, 6,\n",
      "       7, 7, 8, 8, 6, 7, 8, 7, 6, 8, 6, 8, 7, 6, 7, 7, 6, 6, 7, 2, 6, 6,\n",
      "       6, 8, 6, 0, 6, 0, 8, 6, 1, 6, 6, 7, 8, 7, 6, 7, 7, 0, 7, 8, 0, 8,\n",
      "       6, 6, 2, 1, 7, 8, 1, 2, 6, 6, 0, 6, 0, 0, 8, 6, 6, 6, 1, 7, 7, 0,\n",
      "       6, 0, 6, 7, 6, 0, 6, 6, 0, 2, 6, 7, 6, 8, 6, 2, 0, 6, 6, 6, 0, 6,\n",
      "       0, 6, 6, 6, 6, 6, 6, 7, 6, 7, 1, 0, 8, 6, 7, 8, 6, 6, 7, 8, 7, 6,\n",
      "       6, 7, 2, 6, 6, 0, 7, 0, 6, 6, 6, 8, 6, 7, 6, 6, 8, 6, 6, 7, 6, 6,\n",
      "       6, 1, 6, 1, 0, 6, 0, 8, 6, 6, 6, 6, 6, 6, 8, 8, 6, 6, 7, 6, 6, 6,\n",
      "       6, 0, 8, 6, 6, 7, 6, 0, 7, 2, 7, 6, 7, 6, 0, 7, 6, 7, 8, 7, 8, 2,\n",
      "       0, 7, 6, 6, 0, 6, 6, 6, 0, 7, 6, 8, 6, 6, 2, 7, 6, 6, 6, 6, 6, 6,\n",
      "       8, 7, 6, 6, 7, 7, 8, 6, 6, 7, 2, 7, 6, 6, 6, 6, 0, 8, 1, 6, 6, 7,\n",
      "       0, 6, 8, 6, 7, 6, 6, 0, 8, 6, 7, 6, 6, 8, 6, 0, 2, 7, 8, 6, 2, 7,\n",
      "       8, 6, 8, 8, 0, 8, 6, 0, 0, 6, 6, 7, 6, 8, 6, 0, 2, 0, 6, 0, 2],\n",
      "      dtype=int64))\n"
     ]
    }
   ],
   "source": [
    "from scipy import stats\r\n",
    "\r\n",
    "z = np.abs(stats.zscore(df_no_null[['Price', 'Mileage', 'Year', 'Brand_cat', 'Body_cat','Engine Type_cat', 'Registration_cat', 'Model_cat', 'EngineV_cat']]))\r\n",
    "print(z)\r\n",
    "\r\n",
    "print(\"\\n\")\r\n",
    "print(\"*******************************************************************************\")\r\n",
    "print(\"\\n\")\r\n",
    "\r\n",
    "# threshold = 3  # selecting 3 as the threshold to identify outliers\r\n",
    "print('Ponizej sa punkty odstajace - nr indeksow i odpowiadające im indeksy kolumn w drugim wektorze')\r\n",
    "print(\"\\n\")\r\n",
    "print(np.where(z > 3))"
   ]
  },
  {
   "cell_type": "code",
   "execution_count": 88,
   "metadata": {},
   "outputs": [
    {
     "data": {
      "text/plain": [
       "(3362, 15)"
      ]
     },
     "execution_count": 88,
     "metadata": {},
     "output_type": "execute_result"
    }
   ],
   "source": [
    "df_outliers_removed = df_no_null[(z<3).all(axis=1)]\r\n",
    "df_outliers_removed.shape"
   ]
  },
  {
   "cell_type": "code",
   "execution_count": 10,
   "metadata": {},
   "outputs": [
    {
     "name": "stdout",
     "output_type": "stream",
     "text": [
      "(array([], dtype=int64),)\n"
     ]
    }
   ],
   "source": [
    "threshold = -3\r\n",
    "print(np.where(z > -3))"
   ]
  },
  {
   "cell_type": "code",
   "execution_count": 89,
   "metadata": {},
   "outputs": [
    {
     "data": {
      "text/plain": [
       "<AxesSubplot:xlabel='EngineV_cat'>"
      ]
     },
     "execution_count": 89,
     "metadata": {},
     "output_type": "execute_result"
    },
    {
     "data": {
      "image/png": "[encoded data removed]",
      "text/plain": [
       "<Figure size 432x288 with 1 Axes>"
      ]
     },
     "metadata": {},
     "output_type": "display_data"
    }
   ],
   "source": [
    "sns.boxplot(x=df_outliers_removed['EngineV_cat'])"
   ]
  },
  {
   "cell_type": "code",
   "execution_count": 90,
   "metadata": {},
   "outputs": [],
   "source": [
    "df_2=df_outliers_removed[['Price', 'Mileage', 'Year', 'Brand_cat', 'Body_cat','Engine Type_cat', 'Registration_cat', 'Model_cat', 'EngineV_cat']]"
   ]
  },
  {
   "cell_type": "code",
   "execution_count": 91,
   "metadata": {},
   "outputs": [
    {
     "name": "stderr",
     "output_type": "stream",
     "text": [
      "C:\\Users\\Aldona\\anaconda3\\lib\\site-packages\\seaborn\\distributions.py:2551: FutureWarning: `distplot` is a deprecated function and will be removed in a future version. Please adapt your code to use either `displot` (a figure-level function with similar flexibility) or `histplot` (an axes-level function for histograms).\n",
      "  warnings.warn(msg, FutureWarning)\n"
     ]
    },
    {
     "data": {
      "text/plain": [
       "<AxesSubplot:xlabel='Price', ylabel='Density'>"
      ]
     },
     "execution_count": 91,
     "metadata": {},
     "output_type": "execute_result"
    },
    {
     "data": {
      "image/png": "[encoded data removed]",
      "text/plain": [
       "<Figure size 432x288 with 1 Axes>"
      ]
     },
     "metadata": {},
     "output_type": "display_data"
    }
   ],
   "source": [
    "sns.distplot(df_2['Price'])"
   ]
  },
  {
   "cell_type": "code",
   "execution_count": 94,
   "metadata": {},
   "outputs": [
    {
     "name": "stderr",
     "output_type": "stream",
     "text": [
      "C:\\Users\\Aldona\\anaconda3\\lib\\site-packages\\statsmodels\\regression\\linear_model.py:1717: RuntimeWarning: invalid value encountered in double_scalars\n",
      "  return 1 - self.ssr/self.uncentered_tss\n"
     ]
    }
   ],
   "source": [
    "from statsmodels.stats.outliers_influence import variance_inflation_factor\r\n",
    "variables = df_2[['Mileage','Year','Brand_cat', 'Body_cat','Engine Type_cat', 'Registration_cat', 'Model_cat', 'EngineV_cat']]\r\n",
    "vif = pd.DataFrame()\r\n",
    "vif[\"VIF\"] = [variance_inflation_factor(variables.values, i) for i in range(variables.shape[1])]\r\n",
    "vif[\"features\"] = variables.columns"
   ]
  },
  {
   "cell_type": "code",
   "execution_count": 95,
   "metadata": {},
   "outputs": [
    {
     "data": {
      "text/html": [
       "<div>\n",
       "<style scoped>\n",
       "    .dataframe tbody tr th:only-of-type {\n",
       "        vertical-align: middle;\n",
       "    }\n",
       "\n",
       "    .dataframe tbody tr th {\n",
       "        vertical-align: top;\n",
       "    }\n",
       "\n",
       "    .dataframe thead th {\n",
       "        text-align: right;\n",
       "    }\n",
       "</style>\n",
       "<table border=\"1\" class=\"dataframe\">\n",
       "  <thead>\n",
       "    <tr style=\"text-align: right;\">\n",
       "      <th></th>\n",
       "      <th>VIF</th>\n",
       "      <th>features</th>\n",
       "    </tr>\n",
       "  </thead>\n",
       "  <tbody>\n",
       "    <tr>\n",
       "      <th>0</th>\n",
       "      <td>3.974599</td>\n",
       "      <td>Mileage</td>\n",
       "    </tr>\n",
       "    <tr>\n",
       "      <th>1</th>\n",
       "      <td>22.055931</td>\n",
       "      <td>Year</td>\n",
       "    </tr>\n",
       "    <tr>\n",
       "      <th>2</th>\n",
       "      <td>3.878818</td>\n",
       "      <td>Brand_cat</td>\n",
       "    </tr>\n",
       "    <tr>\n",
       "      <th>3</th>\n",
       "      <td>2.031382</td>\n",
       "      <td>Body_cat</td>\n",
       "    </tr>\n",
       "    <tr>\n",
       "      <th>4</th>\n",
       "      <td>2.277517</td>\n",
       "      <td>Engine Type_cat</td>\n",
       "    </tr>\n",
       "    <tr>\n",
       "      <th>5</th>\n",
       "      <td>NaN</td>\n",
       "      <td>Registration_cat</td>\n",
       "    </tr>\n",
       "    <tr>\n",
       "      <th>6</th>\n",
       "      <td>2.326181</td>\n",
       "      <td>Model_cat</td>\n",
       "    </tr>\n",
       "    <tr>\n",
       "      <th>7</th>\n",
       "      <td>10.505523</td>\n",
       "      <td>EngineV_cat</td>\n",
       "    </tr>\n",
       "  </tbody>\n",
       "</table>\n",
       "</div>"
      ],
      "text/plain": [
       "         VIF          features\n",
       "0   3.974599           Mileage\n",
       "1  22.055931              Year\n",
       "2   3.878818         Brand_cat\n",
       "3   2.031382          Body_cat\n",
       "4   2.277517   Engine Type_cat\n",
       "5        NaN  Registration_cat\n",
       "6   2.326181         Model_cat\n",
       "7  10.505523       EngineV_cat"
      ]
     },
     "execution_count": 95,
     "metadata": {},
     "output_type": "execute_result"
    }
   ],
   "source": [
    "vif"
   ]
  },
  {
   "cell_type": "code",
   "execution_count": 98,
   "metadata": {},
   "outputs": [
    {
     "name": "stdout",
     "output_type": "stream",
     "text": [
      "<class 'pandas.core.frame.DataFrame'>\n",
      "Int64Index: 3362 entries, 0 to 4344\n",
      "Data columns (total 8 columns):\n",
      " #   Column            Non-Null Count  Dtype  \n",
      "---  ------            --------------  -----  \n",
      " 0   Price             3362 non-null   float64\n",
      " 1   Mileage           3362 non-null   int64  \n",
      " 2   Brand_cat         3362 non-null   int64  \n",
      " 3   Body_cat          3362 non-null   int64  \n",
      " 4   Engine Type_cat   3362 non-null   int64  \n",
      " 5   Registration_cat  3362 non-null   int64  \n",
      " 6   Model_cat         3362 non-null   int64  \n",
      " 7   EngineV_cat       3362 non-null   float64\n",
      "dtypes: float64(2), int64(6)\n",
      "memory usage: 396.4 KB\n"
     ]
    }
   ],
   "source": [
    "data_no_multicollinearity = df_2.drop(['Year'],axis=1)\r\n",
    "data_no_multicollinearity.info()"
   ]
  },
  {
   "cell_type": "code",
   "execution_count": 102,
   "metadata": {},
   "outputs": [],
   "source": [
    "x = data_no_multicollinearity.drop(['Price'],axis=1)\r\n",
    "y = data_no_multicollinearity['Price']"
   ]
  },
  {
   "cell_type": "code",
   "execution_count": 103,
   "metadata": {},
   "outputs": [
    {
     "data": {
      "text/plain": [
       "LinearRegression()"
      ]
     },
     "execution_count": 103,
     "metadata": {},
     "output_type": "execute_result"
    }
   ],
   "source": [
    "reg = LinearRegression()\r\n",
    "reg.fit(x,y)"
   ]
  },
  {
   "cell_type": "code",
   "execution_count": 104,
   "metadata": {},
   "outputs": [
    {
     "data": {
      "text/plain": [
       "0.5137297164884992"
      ]
     },
     "execution_count": 104,
     "metadata": {},
     "output_type": "execute_result"
    }
   ],
   "source": [
    "reg.score(x,y)"
   ]
  },
  {
   "cell_type": "code",
   "execution_count": 106,
   "metadata": {},
   "outputs": [],
   "source": [
    "# The target(s) (dependent variable) is 'log price'\r\n",
    "targets = data_no_multicollinearity['Price']\r\n",
    "\r\n",
    "# The inputs are everything BUT the dependent variable, so we can simply drop it\r\n",
    "inputs = data_no_multicollinearity.drop(['Price'],axis=1)"
   ]
  },
  {
   "cell_type": "code",
   "execution_count": 108,
   "metadata": {},
   "outputs": [
    {
     "data": {
      "text/plain": [
       "StandardScaler()"
      ]
     },
     "execution_count": 108,
     "metadata": {},
     "output_type": "execute_result"
    }
   ],
   "source": [
    "# Import the scaling module\r\n",
    "from sklearn.preprocessing import StandardScaler\r\n",
    "\r\n",
    "# Create a scaler object\r\n",
    "scaler = StandardScaler()\r\n",
    "# Fit the inputs (calculate the mean and standard deviation feature-wise)\r\n",
    "scaler.fit(inputs)"
   ]
  },
  {
   "cell_type": "code",
   "execution_count": 110,
   "metadata": {},
   "outputs": [],
   "source": [
    "# Scale the features and store them in a new variable (the actual scaling procedure)\r\n",
    "inputs_scaled = scaler.transform(inputs)"
   ]
  },
  {
   "cell_type": "code",
   "execution_count": 111,
   "metadata": {},
   "outputs": [],
   "source": [
    "# Import the module for the split\r\n",
    "from sklearn.model_selection import train_test_split\r\n",
    "\r\n",
    "# Split the variables with an 80-20 split and some random state\r\n",
    "# To have the same split as mine, use random_state = 365\r\n",
    "x_train, x_test, y_train, y_test = train_test_split(inputs_scaled, targets, test_size=0.2, random_state=365)"
   ]
  },
  {
   "cell_type": "code",
   "execution_count": 112,
   "metadata": {},
   "outputs": [
    {
     "data": {
      "text/plain": [
       "LinearRegression()"
      ]
     },
     "execution_count": 112,
     "metadata": {},
     "output_type": "execute_result"
    }
   ],
   "source": [
    "# Create a linear regression object\r\n",
    "reg = LinearRegression()\r\n",
    "# Fit the regression with the scaled TRAIN inputs and targets\r\n",
    "reg.fit(x_train,y_train)"
   ]
  },
  {
   "cell_type": "code",
   "execution_count": 113,
   "metadata": {},
   "outputs": [],
   "source": [
    "# Let's check the outputs of the regression\r\n",
    "# I'll store them in y_hat as this is the 'theoretical' name of the predictions\r\n",
    "y_hat = reg.predict(x_train)"
   ]
  },
  {
   "cell_type": "code",
   "execution_count": 126,
   "metadata": {},
   "outputs": [
    {
     "data": {
      "image/png": "[encoded data removed]",
      "text/plain": [
       "<Figure size 432x288 with 1 Axes>"
      ]
     },
     "metadata": {},
     "output_type": "display_data"
    }
   ],
   "source": [
    "# The simplest way to compare the targets (y_train) and the predictions (y_hat) is to plot them on a scatter plot\r\n",
    "# The closer the points to the 45-degree line, the better the prediction\r\n",
    "plt.scatter(y_train, y_hat)\r\n",
    "# Let's also name the axes\r\n",
    "plt.xlabel('Targets (y_train)',size=18)\r\n",
    "plt.ylabel('Predictions (y_hat)',size=18)\r\n",
    "# Sometimes the plot will have different scales of the x-axis and the y-axis\r\n",
    "# This is an issue as we won't be able to interpret the '45-degree line'\r\n",
    "# We want the x-axis and the y-axis to be the same\r\n",
    "\r\n",
    "plt.show()"
   ]
  },
  {
   "cell_type": "code",
   "execution_count": 115,
   "metadata": {},
   "outputs": [
    {
     "name": "stderr",
     "output_type": "stream",
     "text": [
      "C:\\Users\\Aldona\\anaconda3\\lib\\site-packages\\seaborn\\distributions.py:2551: FutureWarning: `distplot` is a deprecated function and will be removed in a future version. Please adapt your code to use either `displot` (a figure-level function with similar flexibility) or `histplot` (an axes-level function for histograms).\n",
      "  warnings.warn(msg, FutureWarning)\n"
     ]
    },
    {
     "data": {
      "text/plain": [
       "Text(0.5, 1.0, 'Residuals PDF')"
      ]
     },
     "execution_count": 115,
     "metadata": {},
     "output_type": "execute_result"
    },
    {
     "data": {
      "image/png": "[encoded data removed]",
      "text/plain": [
       "<Figure size 432x288 with 1 Axes>"
      ]
     },
     "metadata": {},
     "output_type": "display_data"
    }
   ],
   "source": [
    "# Another useful check of our model is a residual plot\r\n",
    "# We can plot the PDF of the residuals and check for anomalies\r\n",
    "sns.distplot(y_train - y_hat)\r\n",
    "\r\n",
    "# Include a title\r\n",
    "plt.title(\"Residuals PDF\", size=18)"
   ]
  },
  {
   "cell_type": "code",
   "execution_count": 116,
   "metadata": {},
   "outputs": [
    {
     "data": {
      "text/plain": [
       "0.5226100584781878"
      ]
     },
     "execution_count": 116,
     "metadata": {},
     "output_type": "execute_result"
    }
   ],
   "source": [
    "# Find the R-squared of the model\r\n",
    "reg.score(x_train,y_train)\r\n",
    "\r\n",
    "# Note that this is NOT the adjusted R-squared\r\n",
    "# in other words... find the Adjusted R-squared to have the appropriate measure :)"
   ]
  },
  {
   "cell_type": "code",
   "execution_count": 117,
   "metadata": {},
   "outputs": [
    {
     "data": {
      "text/plain": [
       "17474.096377740458"
      ]
     },
     "execution_count": 117,
     "metadata": {},
     "output_type": "execute_result"
    }
   ],
   "source": [
    "# Obtain the bias (intercept) of the regression\r\n",
    "reg.intercept_"
   ]
  },
  {
   "cell_type": "code",
   "execution_count": 118,
   "metadata": {},
   "outputs": [
    {
     "data": {
      "text/plain": [
       "array([-8.97984099e+03, -3.46303241e+03,  5.24724431e+02,  5.56238949e+02,\n",
       "       -4.54747351e-13,  5.09321772e+02,  5.29237652e+03])"
      ]
     },
     "execution_count": 118,
     "metadata": {},
     "output_type": "execute_result"
    }
   ],
   "source": [
    "# Obtain the weights (coefficients) of the regression\r\n",
    "reg.coef_\r\n",
    "\r\n",
    "# Note that they are barely interpretable if at all"
   ]
  },
  {
   "cell_type": "code",
   "execution_count": 119,
   "metadata": {},
   "outputs": [
    {
     "data": {
      "text/html": [
       "<div>\n",
       "<style scoped>\n",
       "    .dataframe tbody tr th:only-of-type {\n",
       "        vertical-align: middle;\n",
       "    }\n",
       "\n",
       "    .dataframe tbody tr th {\n",
       "        vertical-align: top;\n",
       "    }\n",
       "\n",
       "    .dataframe thead th {\n",
       "        text-align: right;\n",
       "    }\n",
       "</style>\n",
       "<table border=\"1\" class=\"dataframe\">\n",
       "  <thead>\n",
       "    <tr style=\"text-align: right;\">\n",
       "      <th></th>\n",
       "      <th>Features</th>\n",
       "      <th>Weights</th>\n",
       "    </tr>\n",
       "  </thead>\n",
       "  <tbody>\n",
       "    <tr>\n",
       "      <th>0</th>\n",
       "      <td>Mileage</td>\n",
       "      <td>-8.979841e+03</td>\n",
       "    </tr>\n",
       "    <tr>\n",
       "      <th>1</th>\n",
       "      <td>Brand_cat</td>\n",
       "      <td>-3.463032e+03</td>\n",
       "    </tr>\n",
       "    <tr>\n",
       "      <th>2</th>\n",
       "      <td>Body_cat</td>\n",
       "      <td>5.247244e+02</td>\n",
       "    </tr>\n",
       "    <tr>\n",
       "      <th>3</th>\n",
       "      <td>Engine Type_cat</td>\n",
       "      <td>5.562389e+02</td>\n",
       "    </tr>\n",
       "    <tr>\n",
       "      <th>4</th>\n",
       "      <td>Registration_cat</td>\n",
       "      <td>-4.547474e-13</td>\n",
       "    </tr>\n",
       "    <tr>\n",
       "      <th>5</th>\n",
       "      <td>Model_cat</td>\n",
       "      <td>5.093218e+02</td>\n",
       "    </tr>\n",
       "    <tr>\n",
       "      <th>6</th>\n",
       "      <td>EngineV_cat</td>\n",
       "      <td>5.292377e+03</td>\n",
       "    </tr>\n",
       "  </tbody>\n",
       "</table>\n",
       "</div>"
      ],
      "text/plain": [
       "           Features       Weights\n",
       "0           Mileage -8.979841e+03\n",
       "1         Brand_cat -3.463032e+03\n",
       "2          Body_cat  5.247244e+02\n",
       "3   Engine Type_cat  5.562389e+02\n",
       "4  Registration_cat -4.547474e-13\n",
       "5         Model_cat  5.093218e+02\n",
       "6       EngineV_cat  5.292377e+03"
      ]
     },
     "execution_count": 119,
     "metadata": {},
     "output_type": "execute_result"
    }
   ],
   "source": [
    "# Create a regression summary where we can compare them with one-another\r\n",
    "reg_summary = pd.DataFrame(inputs.columns.values, columns=['Features'])\r\n",
    "reg_summary['Weights'] = reg.coef_\r\n",
    "reg_summary"
   ]
  },
  {
   "cell_type": "code",
   "execution_count": 122,
   "metadata": {},
   "outputs": [],
   "source": [
    "y_hat_test = reg.predict(x_test)"
   ]
  },
  {
   "cell_type": "code",
   "execution_count": 124,
   "metadata": {},
   "outputs": [
    {
     "data": {
      "text/plain": [
       "array([ 1.84905586e+04,  2.87946896e+04,  2.99898992e+04,  2.35837046e+04,\n",
       "        2.50617404e+04, -2.32511642e+03,  4.90638302e+03,  2.63397413e+04,\n",
       "        1.71649799e+04,  1.25767864e+04,  2.79947009e+04,  1.52756687e+04,\n",
       "        2.86802507e+04,  2.33970113e+04,  6.41202515e+03,  2.10612654e+03,\n",
       "        1.58872463e+04,  1.74046472e+04, -5.06424641e+03,  1.00219343e+04,\n",
       "        2.47203506e+04, -1.36986738e+04,  5.30794690e+03,  3.72648332e+03,\n",
       "        1.70736933e+04,  1.10246470e+04,  1.29189243e+04,  6.17276083e+03,\n",
       "       -5.21005242e+03,  8.47084174e+03, -6.39900428e+03,  7.01176497e+03,\n",
       "        1.87556463e+04, -1.35638014e+04,  7.52831826e+03,  3.13144673e+04,\n",
       "        2.86621735e+04,  1.14241353e+04,  1.02439610e+04,  1.65639803e+04,\n",
       "        1.89160071e+03,  2.51760881e+04,  2.11969796e+04,  1.73979355e+04,\n",
       "        2.35717372e+04,  3.49391551e+04,  2.96947425e+04,  3.39288000e+04,\n",
       "        2.32872499e+04,  2.66587811e+04,  6.02414066e+03,  7.91804312e+03,\n",
       "        3.44264993e+04,  2.05608318e+04,  1.92245755e+03,  1.02145347e+04,\n",
       "        9.96626300e+03,  2.46047589e+04,  2.49144122e+04,  1.83786080e+04,\n",
       "        2.27411200e+04,  2.71836108e+04,  1.21660974e+04,  2.54042585e+04,\n",
       "        6.45036191e+02,  1.18986475e+04,  1.91745918e+04,  2.80478836e+04,\n",
       "        8.91980542e+03,  1.18973574e+04,  1.34144553e+04,  6.56451404e+03,\n",
       "        2.81332725e+04, -1.21414404e+04,  1.56947226e+04,  2.24310375e+04,\n",
       "        6.20318851e+03,  3.50032314e+04,  3.74280328e+04,  1.27903099e+04,\n",
       "        2.27954976e+04,  3.47820574e+04,  1.03654206e+04,  1.51762551e+04,\n",
       "        1.47001337e+04,  7.44670397e+03,  1.86873544e+04,  2.09791542e+04,\n",
       "        5.20675347e+03,  1.89580448e+04, -1.17497919e+03,  2.13653401e+04,\n",
       "        4.01772067e+04,  2.07484526e+04,  1.95535035e+04,  3.44754069e+04,\n",
       "        2.53558643e+04,  4.28658513e+04,  2.85344643e+03,  3.63928078e+04,\n",
       "        2.47192745e+04,  6.18480571e+03,  2.41628956e+04,  7.76205640e+03,\n",
       "        2.17121591e+04,  2.02643242e+04,  1.88272105e+04,  4.46081789e+04,\n",
       "        2.10994849e+04,  2.19231177e+04,  3.33041279e+04,  8.71212659e+03,\n",
       "        1.41936136e+04,  6.24635018e+03,  2.72204035e+04,  1.49915193e+04,\n",
       "        3.47211596e+04,  3.26700159e+04,  1.87266270e+04,  2.95404521e+04,\n",
       "        2.81635372e+04,  3.20377934e+04,  2.49215960e+04,  2.81892724e+03,\n",
       "        3.23321756e+04,  1.17283373e+04,  2.19900479e+04,  4.31306591e+03,\n",
       "        3.58072597e+04,  2.96001894e+03,  2.76608793e+04,  2.48420594e+04,\n",
       "        1.76598398e+04,  6.06708653e+03,  2.46669565e+04,  2.27091176e+04,\n",
       "        3.78181111e+04,  2.57496695e+04,  9.20874896e+02,  1.07987409e+03,\n",
       "        2.36237434e+04,  1.60059605e+04,  4.66482449e+04,  1.69595306e+04,\n",
       "        2.49128575e+04,  1.70612937e+04,  1.78788349e+04,  9.61415045e+03,\n",
       "        8.59328890e+03,  3.51328372e+04,  2.05498266e+04,  1.93002285e+04,\n",
       "        6.66464273e+02,  9.11685198e+03,  1.43698454e+04,  7.92942602e+03,\n",
       "       -4.75439381e+02,  1.33627831e+04,  1.10143715e+04,  1.73058135e+04,\n",
       "        7.92089174e+03,  2.53157813e+04,  1.57122432e+01,  2.68311591e+04,\n",
       "        9.28461426e+03,  1.30372510e+04,  7.53579560e+03,  2.08047471e+04,\n",
       "        1.09159713e+04,  2.16597016e+04,  1.43135793e+04,  1.65977475e+04,\n",
       "        3.17084112e+02,  1.82941819e+04,  3.62084224e+04,  1.34563471e+04,\n",
       "        1.96140737e+04,  1.60745233e+04,  4.88034408e+03,  1.57150860e+04,\n",
       "        1.77717478e+04,  2.52009662e+04,  3.06413098e+04,  1.94896624e+04,\n",
       "        2.16072211e+04,  2.00804627e+04,  1.96195789e+04,  2.28369331e+04,\n",
       "        1.65224460e+04,  1.11398307e+04,  1.63643831e+04,  9.19381735e+03,\n",
       "        1.09072162e+04,  5.90094527e+03,  1.22377969e+04, -1.71572633e+03,\n",
       "        2.60842048e+04,  2.67895690e+04,  4.70985816e+03,  2.42855996e+04,\n",
       "        4.13897946e+04,  3.66812226e+04,  2.89683962e+04,  3.58440507e+04,\n",
       "        2.48504980e+04,  1.62608506e+04,  1.71659101e+04,  2.08300482e+04,\n",
       "        2.90723153e+04,  2.01881930e+04,  2.25204737e+04,  1.69389937e+04,\n",
       "        1.97144165e+04,  1.33212108e+04,  3.09377458e+03,  1.75170769e+04,\n",
       "        7.92123532e+03,  9.91766786e+03, -1.12471491e+03, -1.02247964e+04,\n",
       "        1.59743059e+04,  3.40437258e+04, -2.38133662e+03,  8.19312985e+03,\n",
       "       -1.59018264e+03,  1.22740550e+04,  1.11911441e+04,  1.07660184e+04,\n",
       "        2.64515904e+04,  2.01466562e+04,  2.51561675e+04,  1.95539434e+04,\n",
       "        1.05754991e+04,  3.67970730e+04,  7.68340465e+03,  8.00508358e+03,\n",
       "        9.38587523e+03,  1.59024754e+04,  2.92557891e+04,  1.60747310e+04,\n",
       "        2.40139898e+04,  2.53645691e+04,  1.88519925e+04,  1.81151484e+04,\n",
       "        1.69779476e+04,  2.34794236e+04,  1.55069151e+04,  8.50694375e+03,\n",
       "        2.26339244e+04,  8.06369681e+03,  3.49037383e+04,  3.90763977e+03,\n",
       "        1.01331052e+04,  3.52357230e+04,  3.14280365e+04, -2.97040825e+03,\n",
       "        1.56775909e+04,  2.13185321e+04,  2.17927600e+04,  2.70500636e+04,\n",
       "        7.11638242e+03, -1.50571153e+04,  1.23687489e+04,  2.25016862e+04,\n",
       "        6.68519886e+03,  2.09689464e+04,  1.56866242e+04,  1.22281988e+04,\n",
       "        1.37526209e+04,  1.14189342e+04,  3.35806188e+03,  7.26154181e+03,\n",
       "       -1.04318813e+04,  1.28808119e+04,  3.74291474e+04,  2.14094647e+04,\n",
       "        4.27232787e+04,  1.31903097e+04,  2.66587811e+04,  1.05568096e+04,\n",
       "        1.50733254e+04,  8.87111302e+03,  1.10467325e+04,  3.58176658e+02,\n",
       "        1.00398122e+04,  3.51893854e+04,  1.78515496e+04,  2.25560948e+04,\n",
       "        2.53741477e+04,  3.35750468e+03,  3.32045830e+04,  7.92089174e+03,\n",
       "        2.14238212e+04,  9.48123848e+03,  3.52357230e+04,  1.27499635e+04,\n",
       "        1.40353406e+04,  2.25644465e+04,  1.19040690e+04,  9.73133955e+03,\n",
       "        6.40795464e+03,  9.86341839e+03,  2.73146238e+03,  1.74669848e+04,\n",
       "        2.97537457e+04,  8.02917256e+03,  3.32279395e+04,  2.57707160e+04,\n",
       "        2.55858279e+03,  1.12396962e+04,  1.78241211e+04,  1.74643251e+04,\n",
       "        1.15189729e+04,  2.95465031e+04,  1.65768578e+04,  3.45223778e+04,\n",
       "        1.30795034e+04,  2.39161736e+04,  3.21964570e+04,  1.91854299e+04,\n",
       "        1.83530227e+04,  1.75516284e+04,  1.03261773e+04,  1.49668744e+04,\n",
       "        2.26902085e+04, -5.51549787e+03,  1.29635068e+04,  1.25699255e+04,\n",
       "        2.07239616e+04,  1.72916035e+04,  1.37002366e+04,  1.55417673e+04,\n",
       "        3.76332091e+04,  4.84634114e+03,  1.83624334e+04,  2.78933875e+04,\n",
       "        3.09635688e+04,  6.85734009e+03,  1.69675603e+04,  2.26986948e+04,\n",
       "        2.63730140e+04,  1.24660767e+04,  3.83129515e+04,  1.33591266e+04,\n",
       "        1.19489144e+04,  8.35078010e+03,  2.33861890e+04,  1.50722797e+04,\n",
       "        2.61790424e+04,  1.80135237e+04,  2.42798709e+04, -1.40639669e+02,\n",
       "        9.59103975e+03,  1.88250200e+04, -3.45961477e+03,  9.45592614e+03,\n",
       "        1.26893148e+04,  3.95242856e+04,  6.01989689e+03,  4.51211235e+03,\n",
       "        2.83742245e+04,  3.14675785e+04,  2.15668756e+03,  2.07637836e+04,\n",
       "        7.83593574e+03,  4.37671816e+04,  8.62611115e+03,  3.09945803e+04,\n",
       "        1.87740841e+04,  2.14273868e+04,  1.64915117e+04,  3.19174420e+04,\n",
       "        1.53123660e+04,  1.17086480e+04,  2.07572184e+04,  2.69768565e+04,\n",
       "        1.09710078e+03,  2.51350107e+04,  1.10061049e+04,  2.12636669e+04,\n",
       "        1.23282646e+04,  1.38672998e+04,  7.77341637e+03,  3.64092725e+03,\n",
       "        9.20756256e+03,  2.63181577e+04,  2.71203648e+04,  3.05246118e+03,\n",
       "        2.76110640e+04,  1.98907169e+03, -3.89935803e+02,  1.46876149e+04,\n",
       "        6.16561186e+03,  2.14829988e+04,  3.26440988e+04,  1.45612589e+04,\n",
       "        1.88243619e+04,  2.75683090e+04,  7.21594385e+03,  2.85658449e+04,\n",
       "       -5.10604584e+03,  1.40211619e+04,  2.79465458e+04,  1.58171908e+04,\n",
       "        3.63195427e+03,  1.65544424e+04,  2.34154901e+04,  7.35729742e+03,\n",
       "        2.09418432e+04,  1.32425078e+04,  1.45961821e+04,  2.22236090e+04,\n",
       "        1.52346427e+04,  2.32273321e+04,  3.28879505e+04,  1.21890020e+04,\n",
       "        2.45694933e+04,  6.94372933e+03,  1.53096389e+04,  3.37592132e+04,\n",
       "        1.07516428e+04,  3.01174597e+03,  1.08016842e+04,  1.32661415e+04,\n",
       "        1.17086480e+04,  2.84604587e+04,  3.53427212e+04,  1.75977641e+04,\n",
       "        2.45570809e+04,  3.62084224e+04,  1.91095327e+04,  1.59209143e+04,\n",
       "        3.31103693e+04,  9.25142054e+03,  2.00579082e+04,  1.45243609e+04,\n",
       "       -7.66713424e+03,  3.01629950e+04, -5.31965697e+02,  2.07124352e+04,\n",
       "        2.07732760e+04,  2.42949622e+04,  1.57365754e+04,  2.24804917e+04,\n",
       "        1.51533279e+04,  1.35501787e+04,  2.51534861e+04,  2.63678989e+04,\n",
       "        5.49806120e+03,  4.24596242e+04,  1.30704870e+04,  2.64241890e+04,\n",
       "        5.89326411e+03,  2.34993440e+04,  1.20617752e+04,  3.26151648e+03,\n",
       "        2.71203648e+04,  6.59398906e+03,  5.97593675e+03,  1.51146820e+04,\n",
       "        3.32299556e+04,  3.85243203e+04,  6.25632244e+03,  2.16498528e+04,\n",
       "        2.22780750e+04,  1.47828637e+04,  2.22803962e+04,  3.52357230e+04,\n",
       "        2.69780029e+04,  3.92656989e+03,  2.05686332e+04,  6.86850882e+03,\n",
       "        3.06535469e+04, -2.74479017e+03,  6.75448151e+02,  2.30161064e+04,\n",
       "        1.28466986e+04,  1.06739839e+04,  4.67960234e+03,  1.45243609e+04,\n",
       "        7.26691042e+03,  1.91154000e+04,  1.75516284e+04, -9.71609031e+03,\n",
       "        2.69018459e+04,  2.77101883e+04,  9.61311623e+03,  1.44351332e+04,\n",
       "        4.27600974e+03,  2.76151341e+04,  1.40574922e+04,  4.42178379e+03,\n",
       "        1.77681441e+04,  5.67269190e+03,  3.52357230e+04,  2.74734715e+04,\n",
       "        3.00428239e+04,  1.81418578e+04,  2.17303296e+04,  1.42236020e+04,\n",
       "        1.49636528e+04,  1.63585977e+04,  2.73457349e+04,  1.84976793e+04,\n",
       "        2.16040449e+04,  4.47030165e+04,  1.44646830e+04,  1.65220991e+04,\n",
       "        2.92282222e+04,  7.25128294e+03,  1.60863586e+04,  2.03939516e+04,\n",
       "        2.47698383e+04,  1.43820555e+04,  1.18849937e+04,  2.05739036e+04,\n",
       "        4.06870281e+03,  2.81285841e+04,  3.06229605e+03,  2.41120492e+04,\n",
       "        1.85674799e+04,  1.37298592e+04,  2.38243147e+04,  2.87226829e+04,\n",
       "        1.50803466e+04,  1.67698555e+04,  1.10583858e+04,  4.03035474e+04,\n",
       "        4.59686138e+04,  1.99036218e+04,  1.86375354e+04,  9.46492873e+03,\n",
       "        1.10438194e+04,  1.33208864e+04,  2.55343353e+04,  1.08011402e+04,\n",
       "        8.18632908e+03,  2.27964333e+04,  2.03944304e+04,  4.34597168e+04,\n",
       "        3.04948786e+04,  1.87937924e+04,  1.08008956e+04,  1.42202940e+04,\n",
       "        5.14966314e+03,  2.53009462e+04,  2.98951902e+04,  7.47923838e+03,\n",
       "        1.70204283e+04,  1.33117808e+04,  2.02610228e+04,  1.18160537e+04,\n",
       "        5.75730785e+03,  8.40361379e+03,  2.84542299e+04,  2.43558210e+04,\n",
       "        2.33797499e+04,  1.03809222e+04,  3.71553944e+03,  3.06031647e+04,\n",
       "        1.00434687e+04,  2.03385607e+04,  2.74425764e+04,  1.23027753e+04,\n",
       "        1.34802684e+04,  7.21187380e+03,  6.02414066e+03,  3.33353622e+04,\n",
       "        1.79733449e+04,  3.52971926e+04,  1.69293445e+04,  1.14349748e+04,\n",
       "        1.62010319e+04,  2.11588627e+04,  7.40561896e+03,  2.94737986e+04,\n",
       "        9.43449407e+03,  2.22736960e+04,  4.04680356e+04,  2.34367608e+04,\n",
       "        2.70894908e+04,  9.60889809e+03,  5.25842560e+03,  2.84218470e+04,\n",
       "        1.97751257e+04,  1.46531801e+04, -4.18628677e+03, -4.15950170e+03,\n",
       "        1.31653245e+04,  1.16141348e+04,  1.95207856e+04,  3.37592132e+04,\n",
       "        2.25261733e+04, -5.63099696e+03,  2.72521029e+04,  3.51588402e+04,\n",
       "        5.21195919e+03,  3.79442141e+04,  3.52177396e+04,  2.13878244e+04,\n",
       "        6.09990859e+03,  2.70339293e+04,  2.53362766e+04,  3.50364975e+04,\n",
       "        2.04394489e+04,  1.78172542e+04,  4.75758996e+03,  2.60778105e+04,\n",
       "        1.06654349e+04,  2.15954081e+04,  4.23404913e+04,  3.31105348e+04,\n",
       "        1.33549996e+04,  7.07447582e+03,  1.55097418e+04,  1.33191321e+04,\n",
       "       -2.58494010e+03,  4.32666279e+03,  2.48047794e+04,  8.56990314e+03,\n",
       "        1.88103273e+04,  8.67348565e+03,  2.94454642e+04,  2.14786659e+04,\n",
       "        1.38174390e+04,  3.02860586e+04,  7.62239959e+03,  2.80893788e+04,\n",
       "        7.48674137e+03, -5.35170032e+03,  1.93569492e+04,  3.79442141e+04,\n",
       "        2.73085924e+04,  1.57519316e+04,  3.76298230e+04,  2.49180399e+04,\n",
       "        1.73434776e+04,  3.17854334e+04,  1.73946652e+04,  3.84831361e+04,\n",
       "        2.50961322e+03,  1.24086845e+04,  1.10023318e+04,  1.10435202e+04,\n",
       "        8.50514619e+03,  3.72372425e+04,  8.78557726e+03,  1.14150298e+04,\n",
       "        1.15908741e+04,  1.50066268e+04,  1.17143939e+04, -4.72616547e+03,\n",
       "        7.73121663e+03,  2.61261498e+04,  2.29894171e+04, -1.79312645e+03,\n",
       "        2.64704730e+04,  1.91135689e+04,  1.32188008e+03,  1.07621915e+04,\n",
       "        1.71219802e+04,  1.47968158e+04,  1.13110224e+04,  8.76868380e+03,\n",
       "        2.82111613e+04,  1.26709312e+04, -5.09551377e+03,  1.71743476e+04,\n",
       "        2.29765322e+04,  3.58769408e+04,  3.27407056e+04,  2.06961229e+04,\n",
       "        1.31402904e+04])"
      ]
     },
     "execution_count": 124,
     "metadata": {},
     "output_type": "execute_result"
    }
   ],
   "source": [
    "y_hat_test"
   ]
  },
  {
   "cell_type": "code",
   "execution_count": 127,
   "metadata": {},
   "outputs": [
    {
     "data": {
      "image/png": "[encoded data removed]",
      "text/plain": [
       "<Figure size 432x288 with 1 Axes>"
      ]
     },
     "metadata": {},
     "output_type": "display_data"
    }
   ],
   "source": [
    "plt.scatter(y_test, y_hat_test, alpha=0.2)\r\n",
    "plt.xlabel('Targets (y_test)',size=18)\r\n",
    "plt.ylabel('Predictions (y_hat_test)',size=18)\r\n",
    "\r\n",
    "plt.show()"
   ]
  },
  {
   "cell_type": "code",
   "execution_count": 131,
   "metadata": {},
   "outputs": [
    {
     "data": {
      "text/html": [
       "<div>\n",
       "<style scoped>\n",
       "    .dataframe tbody tr th:only-of-type {\n",
       "        vertical-align: middle;\n",
       "    }\n",
       "\n",
       "    .dataframe tbody tr th {\n",
       "        vertical-align: top;\n",
       "    }\n",
       "\n",
       "    .dataframe thead th {\n",
       "        text-align: right;\n",
       "    }\n",
       "</style>\n",
       "<table border=\"1\" class=\"dataframe\">\n",
       "  <thead>\n",
       "    <tr style=\"text-align: right;\">\n",
       "      <th></th>\n",
       "      <th>Prediction</th>\n",
       "    </tr>\n",
       "  </thead>\n",
       "  <tbody>\n",
       "    <tr>\n",
       "      <th>0</th>\n",
       "      <td>18490.558611</td>\n",
       "    </tr>\n",
       "    <tr>\n",
       "      <th>1</th>\n",
       "      <td>28794.689557</td>\n",
       "    </tr>\n",
       "    <tr>\n",
       "      <th>2</th>\n",
       "      <td>29989.899235</td>\n",
       "    </tr>\n",
       "    <tr>\n",
       "      <th>3</th>\n",
       "      <td>23583.704595</td>\n",
       "    </tr>\n",
       "    <tr>\n",
       "      <th>4</th>\n",
       "      <td>25061.740446</td>\n",
       "    </tr>\n",
       "  </tbody>\n",
       "</table>\n",
       "</div>"
      ],
      "text/plain": [
       "     Prediction\n",
       "0  18490.558611\n",
       "1  28794.689557\n",
       "2  29989.899235\n",
       "3  23583.704595\n",
       "4  25061.740446"
      ]
     },
     "execution_count": 131,
     "metadata": {},
     "output_type": "execute_result"
    }
   ],
   "source": [
    "# Finally, let's manually check these predictions\r\n",
    "# To obtain the actual prices, we take the exponential of the log_price\r\n",
    "df_pf = pd.DataFrame(y_hat_test, columns=['Prediction'])\r\n",
    "df_pf.head()"
   ]
  },
  {
   "cell_type": "code",
   "execution_count": 132,
   "metadata": {},
   "outputs": [
    {
     "name": "stderr",
     "output_type": "stream",
     "text": [
      "C:\\Users\\Aldona\\anaconda3\\lib\\site-packages\\pandas\\core\\series.py:726: RuntimeWarning: overflow encountered in exp\n",
      "  result = getattr(ufunc, method)(*inputs, **kwargs)\n"
     ]
    },
    {
     "data": {
      "text/html": [
       "<div>\n",
       "<style scoped>\n",
       "    .dataframe tbody tr th:only-of-type {\n",
       "        vertical-align: middle;\n",
       "    }\n",
       "\n",
       "    .dataframe tbody tr th {\n",
       "        vertical-align: top;\n",
       "    }\n",
       "\n",
       "    .dataframe thead th {\n",
       "        text-align: right;\n",
       "    }\n",
       "</style>\n",
       "<table border=\"1\" class=\"dataframe\">\n",
       "  <thead>\n",
       "    <tr style=\"text-align: right;\">\n",
       "      <th></th>\n",
       "      <th>Prediction</th>\n",
       "      <th>Target</th>\n",
       "    </tr>\n",
       "  </thead>\n",
       "  <tbody>\n",
       "    <tr>\n",
       "      <th>0</th>\n",
       "      <td>18490.558611</td>\n",
       "      <td>NaN</td>\n",
       "    </tr>\n",
       "    <tr>\n",
       "      <th>1</th>\n",
       "      <td>28794.689557</td>\n",
       "      <td>inf</td>\n",
       "    </tr>\n",
       "    <tr>\n",
       "      <th>2</th>\n",
       "      <td>29989.899235</td>\n",
       "      <td>NaN</td>\n",
       "    </tr>\n",
       "    <tr>\n",
       "      <th>3</th>\n",
       "      <td>23583.704595</td>\n",
       "      <td>NaN</td>\n",
       "    </tr>\n",
       "    <tr>\n",
       "      <th>4</th>\n",
       "      <td>25061.740446</td>\n",
       "      <td>NaN</td>\n",
       "    </tr>\n",
       "    <tr>\n",
       "      <th>...</th>\n",
       "      <td>...</td>\n",
       "      <td>...</td>\n",
       "    </tr>\n",
       "    <tr>\n",
       "      <th>668</th>\n",
       "      <td>22976.532179</td>\n",
       "      <td>NaN</td>\n",
       "    </tr>\n",
       "    <tr>\n",
       "      <th>669</th>\n",
       "      <td>35876.940793</td>\n",
       "      <td>NaN</td>\n",
       "    </tr>\n",
       "    <tr>\n",
       "      <th>670</th>\n",
       "      <td>32740.705626</td>\n",
       "      <td>NaN</td>\n",
       "    </tr>\n",
       "    <tr>\n",
       "      <th>671</th>\n",
       "      <td>20696.122939</td>\n",
       "      <td>NaN</td>\n",
       "    </tr>\n",
       "    <tr>\n",
       "      <th>672</th>\n",
       "      <td>13140.290409</td>\n",
       "      <td>NaN</td>\n",
       "    </tr>\n",
       "  </tbody>\n",
       "</table>\n",
       "<p>673 rows × 2 columns</p>\n",
       "</div>"
      ],
      "text/plain": [
       "       Prediction  Target\n",
       "0    18490.558611     NaN\n",
       "1    28794.689557     inf\n",
       "2    29989.899235     NaN\n",
       "3    23583.704595     NaN\n",
       "4    25061.740446     NaN\n",
       "..            ...     ...\n",
       "668  22976.532179     NaN\n",
       "669  35876.940793     NaN\n",
       "670  32740.705626     NaN\n",
       "671  20696.122939     NaN\n",
       "672  13140.290409     NaN\n",
       "\n",
       "[673 rows x 2 columns]"
      ]
     },
     "execution_count": 132,
     "metadata": {},
     "output_type": "execute_result"
    }
   ],
   "source": [
    "df_pf['Target'] = np.exp(y_test)\r\n",
    "df_pf"
   ]
  },
  {
   "cell_type": "code",
   "execution_count": 133,
   "metadata": {},
   "outputs": [
    {
     "data": {
      "text/plain": [
       "0     9000.0\n",
       "1    39999.0\n",
       "2    51500.0\n",
       "3    10500.0\n",
       "4    11800.0\n",
       "Name: Price, dtype: float64"
      ]
     },
     "execution_count": 133,
     "metadata": {},
     "output_type": "execute_result"
    }
   ],
   "source": [
    "# Therefore, to get a proper result, we must reset the index and drop the old indexing\r\n",
    "y_test = y_test.reset_index(drop=True)\r\n",
    "\r\n",
    "# Check the result\r\n",
    "y_test.head()"
   ]
  },
  {
   "cell_type": "code",
   "execution_count": 135,
   "metadata": {},
   "outputs": [
    {
     "data": {
      "text/html": [
       "<div>\n",
       "<style scoped>\n",
       "    .dataframe tbody tr th:only-of-type {\n",
       "        vertical-align: middle;\n",
       "    }\n",
       "\n",
       "    .dataframe tbody tr th {\n",
       "        vertical-align: top;\n",
       "    }\n",
       "\n",
       "    .dataframe thead th {\n",
       "        text-align: right;\n",
       "    }\n",
       "</style>\n",
       "<table border=\"1\" class=\"dataframe\">\n",
       "  <thead>\n",
       "    <tr style=\"text-align: right;\">\n",
       "      <th></th>\n",
       "      <th>Prediction</th>\n",
       "      <th>Target</th>\n",
       "    </tr>\n",
       "  </thead>\n",
       "  <tbody>\n",
       "    <tr>\n",
       "      <th>0</th>\n",
       "      <td>18490.558611</td>\n",
       "      <td>9000.0</td>\n",
       "    </tr>\n",
       "    <tr>\n",
       "      <th>1</th>\n",
       "      <td>28794.689557</td>\n",
       "      <td>39999.0</td>\n",
       "    </tr>\n",
       "    <tr>\n",
       "      <th>2</th>\n",
       "      <td>29989.899235</td>\n",
       "      <td>51500.0</td>\n",
       "    </tr>\n",
       "    <tr>\n",
       "      <th>3</th>\n",
       "      <td>23583.704595</td>\n",
       "      <td>10500.0</td>\n",
       "    </tr>\n",
       "    <tr>\n",
       "      <th>4</th>\n",
       "      <td>25061.740446</td>\n",
       "      <td>11800.0</td>\n",
       "    </tr>\n",
       "    <tr>\n",
       "      <th>...</th>\n",
       "      <td>...</td>\n",
       "      <td>...</td>\n",
       "    </tr>\n",
       "    <tr>\n",
       "      <th>668</th>\n",
       "      <td>22976.532179</td>\n",
       "      <td>28800.0</td>\n",
       "    </tr>\n",
       "    <tr>\n",
       "      <th>669</th>\n",
       "      <td>35876.940793</td>\n",
       "      <td>43500.0</td>\n",
       "    </tr>\n",
       "    <tr>\n",
       "      <th>670</th>\n",
       "      <td>32740.705626</td>\n",
       "      <td>26900.0</td>\n",
       "    </tr>\n",
       "    <tr>\n",
       "      <th>671</th>\n",
       "      <td>20696.122939</td>\n",
       "      <td>12090.0</td>\n",
       "    </tr>\n",
       "    <tr>\n",
       "      <th>672</th>\n",
       "      <td>13140.290409</td>\n",
       "      <td>10750.0</td>\n",
       "    </tr>\n",
       "  </tbody>\n",
       "</table>\n",
       "<p>673 rows × 2 columns</p>\n",
       "</div>"
      ],
      "text/plain": [
       "       Prediction   Target\n",
       "0    18490.558611   9000.0\n",
       "1    28794.689557  39999.0\n",
       "2    29989.899235  51500.0\n",
       "3    23583.704595  10500.0\n",
       "4    25061.740446  11800.0\n",
       "..            ...      ...\n",
       "668  22976.532179  28800.0\n",
       "669  35876.940793  43500.0\n",
       "670  32740.705626  26900.0\n",
       "671  20696.122939  12090.0\n",
       "672  13140.290409  10750.0\n",
       "\n",
       "[673 rows x 2 columns]"
      ]
     },
     "execution_count": 135,
     "metadata": {},
     "output_type": "execute_result"
    }
   ],
   "source": [
    "# Let's overwrite the 'Target' column with the appropriate values\r\n",
    "# Again, we need the exponential of the test log price\r\n",
    "df_pf['Target'] = y_test\r\n",
    "df_pf"
   ]
  },
  {
   "cell_type": "code",
   "execution_count": 136,
   "metadata": {},
   "outputs": [],
   "source": [
    "df_pf['Residual'] = df_pf['Target'] - df_pf['Prediction']"
   ]
  },
  {
   "cell_type": "code",
   "execution_count": 137,
   "metadata": {},
   "outputs": [
    {
     "data": {
      "text/html": [
       "<div>\n",
       "<style scoped>\n",
       "    .dataframe tbody tr th:only-of-type {\n",
       "        vertical-align: middle;\n",
       "    }\n",
       "\n",
       "    .dataframe tbody tr th {\n",
       "        vertical-align: top;\n",
       "    }\n",
       "\n",
       "    .dataframe thead th {\n",
       "        text-align: right;\n",
       "    }\n",
       "</style>\n",
       "<table border=\"1\" class=\"dataframe\">\n",
       "  <thead>\n",
       "    <tr style=\"text-align: right;\">\n",
       "      <th></th>\n",
       "      <th>Prediction</th>\n",
       "      <th>Target</th>\n",
       "      <th>Residual</th>\n",
       "      <th>Difference%</th>\n",
       "    </tr>\n",
       "  </thead>\n",
       "  <tbody>\n",
       "    <tr>\n",
       "      <th>0</th>\n",
       "      <td>18490.558611</td>\n",
       "      <td>9000.0</td>\n",
       "      <td>-9490.558611</td>\n",
       "      <td>105.450651</td>\n",
       "    </tr>\n",
       "    <tr>\n",
       "      <th>1</th>\n",
       "      <td>28794.689557</td>\n",
       "      <td>39999.0</td>\n",
       "      <td>11204.310443</td>\n",
       "      <td>28.011476</td>\n",
       "    </tr>\n",
       "    <tr>\n",
       "      <th>2</th>\n",
       "      <td>29989.899235</td>\n",
       "      <td>51500.0</td>\n",
       "      <td>21510.100765</td>\n",
       "      <td>41.767186</td>\n",
       "    </tr>\n",
       "    <tr>\n",
       "      <th>3</th>\n",
       "      <td>23583.704595</td>\n",
       "      <td>10500.0</td>\n",
       "      <td>-13083.704595</td>\n",
       "      <td>124.606710</td>\n",
       "    </tr>\n",
       "    <tr>\n",
       "      <th>4</th>\n",
       "      <td>25061.740446</td>\n",
       "      <td>11800.0</td>\n",
       "      <td>-13261.740446</td>\n",
       "      <td>112.387631</td>\n",
       "    </tr>\n",
       "    <tr>\n",
       "      <th>...</th>\n",
       "      <td>...</td>\n",
       "      <td>...</td>\n",
       "      <td>...</td>\n",
       "      <td>...</td>\n",
       "    </tr>\n",
       "    <tr>\n",
       "      <th>668</th>\n",
       "      <td>22976.532179</td>\n",
       "      <td>28800.0</td>\n",
       "      <td>5823.467821</td>\n",
       "      <td>20.220374</td>\n",
       "    </tr>\n",
       "    <tr>\n",
       "      <th>669</th>\n",
       "      <td>35876.940793</td>\n",
       "      <td>43500.0</td>\n",
       "      <td>7623.059207</td>\n",
       "      <td>17.524274</td>\n",
       "    </tr>\n",
       "    <tr>\n",
       "      <th>670</th>\n",
       "      <td>32740.705626</td>\n",
       "      <td>26900.0</td>\n",
       "      <td>-5840.705626</td>\n",
       "      <td>21.712660</td>\n",
       "    </tr>\n",
       "    <tr>\n",
       "      <th>671</th>\n",
       "      <td>20696.122939</td>\n",
       "      <td>12090.0</td>\n",
       "      <td>-8606.122939</td>\n",
       "      <td>71.183813</td>\n",
       "    </tr>\n",
       "    <tr>\n",
       "      <th>672</th>\n",
       "      <td>13140.290409</td>\n",
       "      <td>10750.0</td>\n",
       "      <td>-2390.290409</td>\n",
       "      <td>22.235260</td>\n",
       "    </tr>\n",
       "  </tbody>\n",
       "</table>\n",
       "<p>673 rows × 4 columns</p>\n",
       "</div>"
      ],
      "text/plain": [
       "       Prediction   Target      Residual  Difference%\n",
       "0    18490.558611   9000.0  -9490.558611   105.450651\n",
       "1    28794.689557  39999.0  11204.310443    28.011476\n",
       "2    29989.899235  51500.0  21510.100765    41.767186\n",
       "3    23583.704595  10500.0 -13083.704595   124.606710\n",
       "4    25061.740446  11800.0 -13261.740446   112.387631\n",
       "..            ...      ...           ...          ...\n",
       "668  22976.532179  28800.0   5823.467821    20.220374\n",
       "669  35876.940793  43500.0   7623.059207    17.524274\n",
       "670  32740.705626  26900.0  -5840.705626    21.712660\n",
       "671  20696.122939  12090.0  -8606.122939    71.183813\n",
       "672  13140.290409  10750.0  -2390.290409    22.235260\n",
       "\n",
       "[673 rows x 4 columns]"
      ]
     },
     "execution_count": 137,
     "metadata": {},
     "output_type": "execute_result"
    }
   ],
   "source": [
    "df_pf['Difference%'] = np.absolute(df_pf['Residual']/df_pf['Target']*100)\r\n",
    "df_pf"
   ]
  },
  {
   "cell_type": "code",
   "execution_count": null,
   "metadata": {},
   "outputs": [],
   "source": []
  }
 ],
 "metadata": {
  "interpreter": {
   "hash": "b360ce436bf7810a4e42c14c0db6bed23279072568ea20b740d3dd5a7192a238"
  },
  "kernelspec": {
   "display_name": "Python 3.8.5 64-bit ('base': conda)",
   "name": "python3"
  },
  "language_info": {
   "codemirror_mode": {
    "name": "ipython",
    "version": 3
   },
   "file_extension": ".py",
   "mimetype": "text/x-python",
   "name": "python",
   "nbconvert_exporter": "python",
   "pygments_lexer": "ipython3",
   "version": "3.8.5"
  },
  "orig_nbformat": 4
 },
 "nbformat": 4,
 "nbformat_minor": 2
}