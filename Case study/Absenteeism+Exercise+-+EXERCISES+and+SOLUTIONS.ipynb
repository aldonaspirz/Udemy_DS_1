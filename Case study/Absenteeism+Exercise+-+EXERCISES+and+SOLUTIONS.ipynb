{
 "cells": [
  {
   "cell_type": "code",
   "execution_count": null,
   "source": [
    "import pandas as pd\r\n",
    "raw_csv_data = pd.read_csv(\"D:/Test/Absenteeism_data.csv\")\r\n",
    "df = raw_csv_data.copy()\r\n",
    "df = df.drop(['ID'], axis = 1)\r\n",
    "df"
   ],
   "outputs": [],
   "metadata": {}
  },
  {
   "cell_type": "markdown",
   "source": [
    "## Exercise: Dropping a Column from a DataFrame in Python"
   ],
   "metadata": {}
  },
  {
   "cell_type": "markdown",
   "source": [
    "Create a new notebook file where you will need to solve the exercises we provide throughout this business case study.\n",
    "Then, drop the ‘Age’ column from df and assign the newly obtained data set to a new variable, called df_no_age. "
   ],
   "metadata": {}
  },
  {
   "cell_type": "code",
   "execution_count": null,
   "source": [
    "df_no_age = df.drop(['Age'], axis = 1)\r\n",
    "df_no_age"
   ],
   "outputs": [],
   "metadata": {}
  },
  {
   "cell_type": "markdown",
   "source": [
    "## Exercise: Obtaining Dummies from a Single Feature"
   ],
   "metadata": {}
  },
  {
   "cell_type": "markdown",
   "source": [
    "Split the ‘Age’ column into multiple dummies. Store the output in a new variable, called age_dummies."
   ],
   "metadata": {}
  },
  {
   "cell_type": "code",
   "execution_count": null,
   "source": [
    "age_dummies = pd.get_dummies(df['Age'])\r\n",
    "age_dummies"
   ],
   "outputs": [],
   "metadata": {}
  },
  {
   "cell_type": "markdown",
   "source": [
    "## Exercise: Concatenation in Python"
   ],
   "metadata": {}
  },
  {
   "cell_type": "markdown",
   "source": [
    "Concatenate the df_no_age and age_dummies objects you previously obtained. Store the result in a new object called df_concatenated."
   ],
   "metadata": {}
  },
  {
   "cell_type": "code",
   "execution_count": null,
   "source": [
    "df_concatenated = pd.concat([df_no_age, age_dummies], axis=1)\r\n",
    "df_concatenated"
   ],
   "outputs": [],
   "metadata": {}
  },
  {
   "cell_type": "markdown",
   "source": [
    "## Exercise: Reordering Columns"
   ],
   "metadata": {}
  },
  {
   "cell_type": "markdown",
   "source": [
    "Reorder the columns from df_concatented in such a way that the ‘Absenteeism Time in Hours’ column appears at the far right of the data set."
   ],
   "metadata": {}
  },
  {
   "cell_type": "code",
   "execution_count": null,
   "source": [
    "df_concatenated.columns.values"
   ],
   "outputs": [],
   "metadata": {}
  },
  {
   "cell_type": "code",
   "execution_count": null,
   "source": [
    "column_names_updated = ['Reason for Absence', 'Date', 'Transportation Expense',\r\n",
    "       'Distance to Work', 'Daily Work Load Average', 'Body Mass Index',\r\n",
    "       'Education', 'Children', 'Pets', 27,\r\n",
    "       28, 29, 30, 31, 32, 33, 34, 36, 37, 38, 39, 40, 41, 43, 46, 47, 48,\r\n",
    "       49, 50, 58, 'Absenteeism Time in Hours']"
   ],
   "outputs": [],
   "metadata": {}
  },
  {
   "cell_type": "code",
   "execution_count": null,
   "source": [
    "df_concatenated.columns = column_names_updated"
   ],
   "outputs": [],
   "metadata": {}
  },
  {
   "cell_type": "code",
   "execution_count": null,
   "source": [
    "df_concatenated"
   ],
   "outputs": [],
   "metadata": {}
  },
  {
   "cell_type": "markdown",
   "source": [
    "## Exercise Creating Checkpoints"
   ],
   "metadata": {}
  },
  {
   "cell_type": "markdown",
   "source": [
    "Create a checkpoint of your work on the exercises, storing the current output in a variable called df_checkpoint."
   ],
   "metadata": {}
  },
  {
   "cell_type": "code",
   "execution_count": null,
   "source": [
    "df_checkpoint = df_concatenated.copy()\r\n"
   ],
   "outputs": [],
   "metadata": {}
  },
  {
   "cell_type": "code",
   "execution_count": 2,
   "source": [
    "df_checkpoint.to_csv('Absenteeism_preprocessed.csv', index=False)"
   ],
   "outputs": [
    {
     "output_type": "error",
     "ename": "NameError",
     "evalue": "name 'df_checkpoint' is not defined",
     "traceback": [
      "\u001b[1;31m---------------------------------------------------------------------------\u001b[0m",
      "\u001b[1;31mNameError\u001b[0m                                 Traceback (most recent call last)",
      "\u001b[1;32m<ipython-input-2-609a2013cfb8>\u001b[0m in \u001b[0;36m<module>\u001b[1;34m\u001b[0m\n\u001b[1;32m----> 1\u001b[1;33m \u001b[0mdf_checkpoint\u001b[0m\u001b[1;33m.\u001b[0m\u001b[0mto_csv\u001b[0m\u001b[1;33m(\u001b[0m\u001b[1;34m'Absenteeism_preprocessed.csv'\u001b[0m\u001b[1;33m,\u001b[0m \u001b[0mindex\u001b[0m\u001b[1;33m=\u001b[0m\u001b[1;32mFalse\u001b[0m\u001b[1;33m)\u001b[0m\u001b[1;33m\u001b[0m\u001b[1;33m\u001b[0m\u001b[0m\n\u001b[0m",
      "\u001b[1;31mNameError\u001b[0m: name 'df_checkpoint' is not defined"
     ]
    }
   ],
   "metadata": {}
  }
 ],
 "metadata": {
  "kernelspec": {
   "name": "python3",
   "display_name": "Python 3.8.5 64-bit ('base': conda)"
  },
  "language_info": {
   "codemirror_mode": {
    "name": "ipython",
    "version": 3
   },
   "file_extension": ".py",
   "mimetype": "text/x-python",
   "name": "python",
   "nbconvert_exporter": "python",
   "pygments_lexer": "ipython3",
   "version": "3.8.5"
  },
  "interpreter": {
   "hash": "b360ce436bf7810a4e42c14c0db6bed23279072568ea20b740d3dd5a7192a238"
  }
 },
 "nbformat": 4,
 "nbformat_minor": 2
}